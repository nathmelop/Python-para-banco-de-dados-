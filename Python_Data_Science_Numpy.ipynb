{
  "nbformat": 4,
  "nbformat_minor": 0,
  "metadata": {
    "colab": {
      "name": "Python_Data_Science_Numpy.ipynb",
      "provenance": [],
      "include_colab_link": true
    },
    "kernelspec": {
      "display_name": "Python 3",
      "language": "python",
      "name": "python3"
    },
    "language_info": {
      "codemirror_mode": {
        "name": "ipython",
        "version": 3
      },
      "file_extension": ".py",
      "mimetype": "text/x-python",
      "name": "python",
      "nbconvert_exporter": "python",
      "pygments_lexer": "ipython3",
      "version": "3.6.5"
    }
  },
  "cells": [
    {
      "cell_type": "markdown",
      "metadata": {
        "id": "view-in-github",
        "colab_type": "text"
      },
      "source": [
        "<a href=\"https://colab.research.google.com/github/nathmelop/PythonDataScience/blob/main/Python_Data_Science_Numpy.ipynb\" target=\"_parent\"><img src=\"https://colab.research.google.com/assets/colab-badge.svg\" alt=\"Open In Colab\"/></a>"
      ]
    },
    {
      "cell_type": "markdown",
      "metadata": {
        "id": "do3kUOLbltjE"
      },
      "source": [
        "# <font color=green> PYTHON PARA DATA SCIENCE - NUMPY\n",
        "---"
      ]
    },
    {
      "cell_type": "markdown",
      "metadata": {
        "id": "umSz9TLxltjG"
      },
      "source": [
        "# <font color=green> 1. INTRODUÇÃO AO PYTHON\n",
        "---"
      ]
    },
    {
      "cell_type": "markdown",
      "metadata": {
        "id": "gSnX12-sltjH"
      },
      "source": [
        "# 1.1 Introdução"
      ]
    },
    {
      "cell_type": "markdown",
      "metadata": {
        "id": "SRG_k55kltjI"
      },
      "source": [
        "> Python é uma linguagem de programação de alto nível com suporte a múltiplos paradigmas de programação. É um projeto *open source* e desde seu surgimento, em 1991, vem se tornando uma das linguagens de programação interpretadas mais populares. \n",
        ">\n",
        "> Nos últimos anos Python desenvolveu uma comunidade ativa de processamento científico e análise de dados e vem se destacando como uma das linguagens mais relevantes quando o assunto é ciência de dados e machine learning, tanto no ambiente acadêmico como também no mercado."
      ]
    },
    {
      "cell_type": "markdown",
      "metadata": {
        "id": "2oZuKvWkltjJ"
      },
      "source": [
        "# 1.2 Instalação e ambiente de desenvolvimento"
      ]
    },
    {
      "cell_type": "markdown",
      "metadata": {
        "id": "v4P8bMEIltjK"
      },
      "source": [
        "### Instalação Local\n",
        "\n",
        "### https://www.python.org/downloads/\n",
        "### ou\n",
        "### https://www.anaconda.com/distribution/"
      ]
    },
    {
      "cell_type": "markdown",
      "metadata": {
        "id": "FZtu5tjrltjL"
      },
      "source": [
        "### Google Colaboratory\n",
        "\n",
        "### https://colab.research.google.com"
      ]
    },
    {
      "cell_type": "markdown",
      "metadata": {
        "id": "C6vbfq8DltjM"
      },
      "source": [
        "### Verificando versão"
      ]
    },
    {
      "cell_type": "code",
      "metadata": {
        "id": "jeuAt-4NltjM"
      },
      "source": [
        ""
      ],
      "execution_count": null,
      "outputs": []
    },
    {
      "cell_type": "markdown",
      "metadata": {
        "id": "v86aEyR2ltjR"
      },
      "source": [
        "# 1.3 Trabalhando com arrays Numpy"
      ]
    },
    {
      "cell_type": "code",
      "metadata": {
        "id": "6FEhElzNltjR"
      },
      "source": [
        "import numpy as np "
      ],
      "execution_count": null,
      "outputs": []
    },
    {
      "cell_type": "code",
      "metadata": {
        "id": "qjL5wPLKltjU"
      },
      "source": [
        "km = np.loadtxt('carros-km.txt')"
      ],
      "execution_count": null,
      "outputs": []
    },
    {
      "cell_type": "code",
      "metadata": {
        "id": "OFaxgUptltjW",
        "scrolled": true
      },
      "source": [
        "km "
      ],
      "execution_count": null,
      "outputs": []
    },
    {
      "cell_type": "code",
      "metadata": {
        "id": "FXjYowRDltjZ"
      },
      "source": [
        "anos = np.loadtxt('carros-anos.txt', dtype = int)"
      ],
      "execution_count": null,
      "outputs": []
    },
    {
      "cell_type": "code",
      "metadata": {
        "id": "f_d2Ya-vltjb"
      },
      "source": [
        "anos "
      ],
      "execution_count": null,
      "outputs": []
    },
    {
      "cell_type": "code",
      "metadata": {
        "id": "hxLZatdeltje"
      },
      "source": [
        ""
      ],
      "execution_count": null,
      "outputs": []
    },
    {
      "cell_type": "code",
      "metadata": {
        "id": "GLsHBNakltjg"
      },
      "source": [
        ""
      ],
      "execution_count": null,
      "outputs": []
    },
    {
      "cell_type": "code",
      "metadata": {
        "id": "oSSYu6nhltji"
      },
      "source": [
        ""
      ],
      "execution_count": null,
      "outputs": []
    },
    {
      "cell_type": "code",
      "metadata": {
        "id": "D6qMoutGltjk"
      },
      "source": [
        ""
      ],
      "execution_count": null,
      "outputs": []
    },
    {
      "cell_type": "code",
      "metadata": {
        "id": "XIBz0Vowltjn"
      },
      "source": [
        ""
      ],
      "execution_count": null,
      "outputs": []
    },
    {
      "cell_type": "code",
      "metadata": {
        "id": "u8_CU3F4ltjq"
      },
      "source": [
        ""
      ],
      "execution_count": null,
      "outputs": []
    },
    {
      "cell_type": "markdown",
      "metadata": {
        "id": "wMdUsAq4ltjs"
      },
      "source": [
        "### Obtendo a quilometragem média por ano"
      ]
    },
    {
      "cell_type": "code",
      "metadata": {
        "colab": {
          "base_uri": "https://localhost:8080/"
        },
        "id": "cD2M3s3Fltjt",
        "outputId": "3c9aafdc-0f5a-4d85-d955-f22dfee74c61"
      },
      "source": [
        "km_media = km / (2019 - anos)"
      ],
      "execution_count": null,
      "outputs": [
        {
          "output_type": "stream",
          "text": [
            "/usr/local/lib/python3.7/dist-packages/ipykernel_launcher.py:1: RuntimeWarning: invalid value encountered in true_divide\n",
            "  \"\"\"Entry point for launching an IPython kernel.\n"
          ],
          "name": "stderr"
        }
      ]
    },
    {
      "cell_type": "code",
      "metadata": {
        "id": "65IyPzKKltjv"
      },
      "source": [
        "km_media"
      ],
      "execution_count": null,
      "outputs": []
    },
    {
      "cell_type": "code",
      "metadata": {
        "colab": {
          "base_uri": "https://localhost:8080/"
        },
        "id": "Z0JCmAWvltjy",
        "outputId": "ab4f62dc-dc12-4f34-8d28-e4f3f00beb23"
      },
      "source": [
        "type (km_media)"
      ],
      "execution_count": null,
      "outputs": [
        {
          "output_type": "execute_result",
          "data": {
            "text/plain": [
              "numpy.ndarray"
            ]
          },
          "metadata": {
            "tags": []
          },
          "execution_count": 9
        }
      ]
    },
    {
      "cell_type": "markdown",
      "metadata": {
        "id": "KdG5NmmGltj0"
      },
      "source": [
        "# <font color=green> 2. CARACTERÍSTICAS BÁSICAS DA LINGUAGEM\n",
        "---"
      ]
    },
    {
      "cell_type": "markdown",
      "metadata": {
        "id": "X1K5kisFltj1"
      },
      "source": [
        "# 2.1 Operações matemáticas\n",
        "\n",
        "### Operadores aritméticos: $+$, $-$, $*$, $/$, $**$, $\\%$, $//$"
      ]
    },
    {
      "cell_type": "markdown",
      "metadata": {
        "id": "8YCDVpbYltj1"
      },
      "source": [
        "### Adição ($+$)"
      ]
    },
    {
      "cell_type": "code",
      "metadata": {
        "id": "h6DsMqhaltj2"
      },
      "source": [
        ""
      ],
      "execution_count": null,
      "outputs": []
    },
    {
      "cell_type": "markdown",
      "metadata": {
        "id": "WeJG-WJBltj8"
      },
      "source": [
        "### Subtração ($-$)"
      ]
    },
    {
      "cell_type": "code",
      "metadata": {
        "id": "zoB7_OcRltj9"
      },
      "source": [
        ""
      ],
      "execution_count": null,
      "outputs": []
    },
    {
      "cell_type": "markdown",
      "metadata": {
        "id": "zuv8N7fjltkC"
      },
      "source": [
        "### Multiplicação ($*$)"
      ]
    },
    {
      "cell_type": "code",
      "metadata": {
        "id": "TAWG7xSTltkD"
      },
      "source": [
        ""
      ],
      "execution_count": null,
      "outputs": []
    },
    {
      "cell_type": "markdown",
      "metadata": {
        "id": "dMp7BsnwltkF"
      },
      "source": [
        "### Divisão ($/$) e ($//$)\n",
        "A operação divisão sempre retorna um número de ponto flutuante"
      ]
    },
    {
      "cell_type": "code",
      "metadata": {
        "id": "DD5kx3H3ltkF"
      },
      "source": [
        ""
      ],
      "execution_count": null,
      "outputs": []
    },
    {
      "cell_type": "code",
      "metadata": {
        "id": "ji0CYH3UltkI"
      },
      "source": [
        ""
      ],
      "execution_count": null,
      "outputs": []
    },
    {
      "cell_type": "markdown",
      "metadata": {
        "id": "3DSO7TcvltkL"
      },
      "source": [
        "### Exponenciação ($**$)"
      ]
    },
    {
      "cell_type": "code",
      "metadata": {
        "id": "tBKvl2TWltkM"
      },
      "source": [
        ""
      ],
      "execution_count": null,
      "outputs": []
    },
    {
      "cell_type": "markdown",
      "metadata": {
        "id": "MhD56p-9ltkQ"
      },
      "source": [
        "### Resto da divisão ($\\%$)"
      ]
    },
    {
      "cell_type": "code",
      "metadata": {
        "id": "bfa7phO6ltkR"
      },
      "source": [
        ""
      ],
      "execution_count": null,
      "outputs": []
    },
    {
      "cell_type": "code",
      "metadata": {
        "id": "khIEx6olltkT"
      },
      "source": [
        ""
      ],
      "execution_count": null,
      "outputs": []
    },
    {
      "cell_type": "markdown",
      "metadata": {
        "id": "8pVVp5fsltkV"
      },
      "source": [
        "### Expressões matemáticas"
      ]
    },
    {
      "cell_type": "code",
      "metadata": {
        "colab": {
          "base_uri": "https://localhost:8080/"
        },
        "id": "jlQTk4gNltkW",
        "outputId": "cad6373c-af2d-44bd-9a3e-e7266a6e857f"
      },
      "source": [
        "10 % 2 + 3 // 10"
      ],
      "execution_count": null,
      "outputs": [
        {
          "output_type": "execute_result",
          "data": {
            "text/plain": [
              "0"
            ]
          },
          "metadata": {
            "tags": []
          },
          "execution_count": 13
        }
      ]
    },
    {
      "cell_type": "code",
      "metadata": {
        "id": "kkCb6Crgltka"
      },
      "source": [
        ""
      ],
      "execution_count": null,
      "outputs": []
    },
    {
      "cell_type": "code",
      "metadata": {
        "id": "UD12tlgAltkd"
      },
      "source": [
        ""
      ],
      "execution_count": null,
      "outputs": []
    },
    {
      "cell_type": "markdown",
      "metadata": {
        "id": "a5tKQ5Beltkf"
      },
      "source": [
        "### A variável _\n",
        "\n",
        "No modo interativo, o último resultado impresso é atribuído à variável _"
      ]
    },
    {
      "cell_type": "code",
      "metadata": {
        "colab": {
          "base_uri": "https://localhost:8080/"
        },
        "id": "VkHEx516ltkg",
        "outputId": "b8cc5980-2efa-4de1-cb6a-5038533becc0"
      },
      "source": [
        "5*2"
      ],
      "execution_count": null,
      "outputs": [
        {
          "output_type": "execute_result",
          "data": {
            "text/plain": [
              "10"
            ]
          },
          "metadata": {
            "tags": []
          },
          "execution_count": 10
        }
      ]
    },
    {
      "cell_type": "code",
      "metadata": {
        "colab": {
          "base_uri": "https://localhost:8080/"
        },
        "id": "dFShsobXltki",
        "outputId": "efa29314-737d-4c25-bdd8-6d0c2b0c70a8"
      },
      "source": [
        "_ + 3*2"
      ],
      "execution_count": null,
      "outputs": [
        {
          "output_type": "execute_result",
          "data": {
            "text/plain": [
              "16"
            ]
          },
          "metadata": {
            "tags": []
          },
          "execution_count": 11
        }
      ]
    },
    {
      "cell_type": "code",
      "metadata": {
        "colab": {
          "base_uri": "https://localhost:8080/"
        },
        "id": "hJIpR3KUltkk",
        "outputId": "6cf50627-466a-44ac-c1b2-11c40adec457"
      },
      "source": [
        "_ / 2 "
      ],
      "execution_count": null,
      "outputs": [
        {
          "output_type": "execute_result",
          "data": {
            "text/plain": [
              "8.0"
            ]
          },
          "metadata": {
            "tags": []
          },
          "execution_count": 12
        }
      ]
    },
    {
      "cell_type": "markdown",
      "metadata": {
        "id": "MUrQAf6Mltkm"
      },
      "source": [
        "# 2.2 Variáveis "
      ]
    },
    {
      "cell_type": "markdown",
      "metadata": {
        "id": "qaVLKIeultkn"
      },
      "source": [
        "### Nomes de variáveis\n",
        "\n",
        "- Nomes de variáveis pode começar com letras (a - z, A - Z) ou o caractere *underscore* (_):\n",
        "\n",
        "    > Altura\n",
        "    >\n",
        "    > _peso\n",
        "    \n",
        "- O restante do nome pode conter letras, números e o caractere \"_\":\n",
        "\n",
        "    > nome_da_variavel\n",
        "    >\n",
        "    > _valor\n",
        "    >\n",
        "    > dia_28_11_\n",
        "    \n",
        "\n",
        "- O nomes são *case sensitive*:\n",
        "\n",
        "    > Nome_Da_Variável $\\ne$ nome_da_variavel $\\ne$ NOME_DA_VARIAVEL\n",
        "    \n",
        "### <font color=red>Observações:\n",
        "- Existem algumas palavras reservadas da linguagem que não podem ser utilizadas como nomes de variável:\n",
        "\n",
        "| |Lista de palavras <br>reservadas em Python| |\n",
        "|:-------------:|:------------:|:-------------:|\n",
        "| and           | as           | not           | \n",
        "| assert        | finally      | or            | \n",
        "| break         | for          | pass          | \n",
        "| class         | from         | nonlocal      | \n",
        "| continue      | global       | raise         | \n",
        "| def           | if           | return        | \n",
        "| del           | import       | try           | \n",
        "| elif          | in           | while         | \n",
        "| else          | is           | with          | \n",
        "| except        | lambda       | yield         | \n",
        "| False         | True         | None          | "
      ]
    },
    {
      "cell_type": "markdown",
      "metadata": {
        "id": "3frWjfAtltkn"
      },
      "source": [
        "### Declaração de variáveis\n",
        "\n",
        "### Operadores de atribuição: $=$, $+=$, $-=$, $*=$, $/=$, $**=$, $\\%=$, $//=$"
      ]
    },
    {
      "cell_type": "code",
      "metadata": {
        "id": "7VIcrXNHltko"
      },
      "source": [
        "ano_atual = 2019\n",
        "ano_fabricacao = 2003\n",
        "km_total = 44410.0"
      ],
      "execution_count": null,
      "outputs": []
    },
    {
      "cell_type": "code",
      "metadata": {
        "colab": {
          "base_uri": "https://localhost:8080/"
        },
        "id": "atVoqp6bltkq",
        "outputId": "9fd1375f-b8ae-48bd-a2c8-4ef085678775"
      },
      "source": [
        "ano_atual\n",
        "ano_fabricacao\n",
        "km_total"
      ],
      "execution_count": null,
      "outputs": [
        {
          "output_type": "execute_result",
          "data": {
            "text/plain": [
              "44410.0"
            ]
          },
          "metadata": {
            "tags": []
          },
          "execution_count": 17
        }
      ]
    },
    {
      "cell_type": "code",
      "metadata": {
        "colab": {
          "base_uri": "https://localhost:8080/"
        },
        "id": "_t82qXrOltkt",
        "outputId": "98ee7026-9c72-4722-98f2-ddb1a33fda1a"
      },
      "source": [
        "ano_fabricacao"
      ],
      "execution_count": null,
      "outputs": [
        {
          "output_type": "execute_result",
          "data": {
            "text/plain": [
              "2003"
            ]
          },
          "metadata": {
            "tags": []
          },
          "execution_count": 18
        }
      ]
    },
    {
      "cell_type": "code",
      "metadata": {
        "id": "1anwuDHiltkv"
      },
      "source": [
        "km_media = km_total / (ano_atual - ano_fabricacao)"
      ],
      "execution_count": null,
      "outputs": []
    },
    {
      "cell_type": "code",
      "metadata": {
        "colab": {
          "base_uri": "https://localhost:8080/"
        },
        "id": "nb2xBeAEV9pj",
        "outputId": "27a0896a-29bd-4409-f9cd-88139c3c47a1"
      },
      "source": [
        "km_media"
      ],
      "execution_count": null,
      "outputs": [
        {
          "output_type": "execute_result",
          "data": {
            "text/plain": [
              "2775.625"
            ]
          },
          "metadata": {
            "tags": []
          },
          "execution_count": 21
        }
      ]
    },
    {
      "cell_type": "code",
      "metadata": {
        "colab": {
          "base_uri": "https://localhost:8080/"
        },
        "id": "nhcrfGUkXHbE",
        "outputId": "913bbd75-bedc-43fd-8078-031d6ee4bbf0"
      },
      "source": [
        "ano_atual = 2019\n",
        "ano_fabricacao = 2005\n",
        "km_total = 44410.0\n",
        "km_media = km_total / (ano_atual - ano_fabricacao)\n",
        "km_media"
      ],
      "execution_count": null,
      "outputs": [
        {
          "output_type": "execute_result",
          "data": {
            "text/plain": [
              "3172.1428571428573"
            ]
          },
          "metadata": {
            "tags": []
          },
          "execution_count": 22
        }
      ]
    },
    {
      "cell_type": "code",
      "metadata": {
        "colab": {
          "base_uri": "https://localhost:8080/"
        },
        "id": "PL0YOOCmXjsx",
        "outputId": "ea8bf520-b60c-45a6-ad55-ba3f1d4d1883"
      },
      "source": [
        "ano_atual = 2019\n",
        "ano_fabricacao = 2003\n",
        "km_total = 44410.0\n",
        "km_media = km_total / (ano_atual - ano_fabricacao)\n",
        "\n",
        "km_total = km_total + km_media\n",
        "km_total"
      ],
      "execution_count": null,
      "outputs": [
        {
          "output_type": "execute_result",
          "data": {
            "text/plain": [
              "47185.625"
            ]
          },
          "metadata": {
            "tags": []
          },
          "execution_count": 23
        }
      ]
    },
    {
      "cell_type": "code",
      "metadata": {
        "colab": {
          "base_uri": "https://localhost:8080/"
        },
        "id": "G6FzNvR7X_I6",
        "outputId": "56a499de-1c9d-4820-e5e8-332438f0c1a6"
      },
      "source": [
        "ano_atual = 2019\n",
        "ano_fabricacao = 2003\n",
        "km_total = 44410.0\n",
        "km_media = km_total / (ano_atual - ano_fabricacao)\n",
        "\n",
        "km_total += km_media\n",
        "km_total"
      ],
      "execution_count": null,
      "outputs": [
        {
          "output_type": "execute_result",
          "data": {
            "text/plain": [
              "47185.625"
            ]
          },
          "metadata": {
            "tags": []
          },
          "execution_count": 24
        }
      ]
    },
    {
      "cell_type": "markdown",
      "metadata": {
        "id": "gCBkfq_8ltky"
      },
      "source": [
        "# $$km_{média} = \\frac {km_{total}}{(Ano_{atual} - Ano_{fabricação})}$$"
      ]
    },
    {
      "cell_type": "markdown",
      "metadata": {
        "id": "zswWS4hNltky"
      },
      "source": [
        "### Operações com variáveis"
      ]
    },
    {
      "cell_type": "code",
      "metadata": {
        "id": "HxxU0rnfltkz"
      },
      "source": [
        ""
      ],
      "execution_count": null,
      "outputs": []
    },
    {
      "cell_type": "code",
      "metadata": {
        "id": "_2Qhb32jltk1"
      },
      "source": [
        ""
      ],
      "execution_count": null,
      "outputs": []
    },
    {
      "cell_type": "code",
      "metadata": {
        "id": "nCJzA7dyltk3"
      },
      "source": [
        ""
      ],
      "execution_count": null,
      "outputs": []
    },
    {
      "cell_type": "code",
      "metadata": {
        "id": "ifRwQ0vEltk9"
      },
      "source": [
        ""
      ],
      "execution_count": null,
      "outputs": []
    },
    {
      "cell_type": "markdown",
      "metadata": {
        "id": "fDBrHWSBltlB"
      },
      "source": [
        "### Conclusão:\n",
        "```\n",
        "\"valor = valor + 1\" é equivalente a \"valor += 1\"\n",
        "```"
      ]
    },
    {
      "cell_type": "markdown",
      "metadata": {
        "id": "uVAyJbmAltlC"
      },
      "source": [
        "### Declaração múltipla"
      ]
    },
    {
      "cell_type": "code",
      "metadata": {
        "id": "oMWEzjPOltlC"
      },
      "source": [
        "ano_atual, ano_fabricacao, km_total =  2019, 2003, 44410.0"
      ],
      "execution_count": null,
      "outputs": []
    },
    {
      "cell_type": "code",
      "metadata": {
        "colab": {
          "base_uri": "https://localhost:8080/"
        },
        "id": "9ZKlHkLultlE",
        "outputId": "589bee05-799f-4acc-fdbe-edcf9c4be1fb"
      },
      "source": [
        "ano_atual"
      ],
      "execution_count": null,
      "outputs": [
        {
          "output_type": "execute_result",
          "data": {
            "text/plain": [
              "2019"
            ]
          },
          "metadata": {
            "tags": []
          },
          "execution_count": 26
        }
      ]
    },
    {
      "cell_type": "code",
      "metadata": {
        "colab": {
          "base_uri": "https://localhost:8080/"
        },
        "id": "-mcMuW9nltlG",
        "outputId": "f8b489ed-f873-4adf-ab49-04c0c56fa174"
      },
      "source": [
        "ano_fabricacao"
      ],
      "execution_count": null,
      "outputs": [
        {
          "output_type": "execute_result",
          "data": {
            "text/plain": [
              "2003"
            ]
          },
          "metadata": {
            "tags": []
          },
          "execution_count": 27
        }
      ]
    },
    {
      "cell_type": "code",
      "metadata": {
        "colab": {
          "base_uri": "https://localhost:8080/"
        },
        "id": "WFFavLIvltlL",
        "outputId": "2f64b2d9-821c-44aa-dbf1-e1079cfdabc5"
      },
      "source": [
        "km_total"
      ],
      "execution_count": null,
      "outputs": [
        {
          "output_type": "execute_result",
          "data": {
            "text/plain": [
              "44410.0"
            ]
          },
          "metadata": {
            "tags": []
          },
          "execution_count": 28
        }
      ]
    },
    {
      "cell_type": "code",
      "metadata": {
        "colab": {
          "base_uri": "https://localhost:8080/"
        },
        "id": "iFawOJe6ltlO",
        "outputId": "03ec2623-a3cb-4ef5-c4cf-1af93f0e432e"
      },
      "source": [
        "ano_atual, ano_fabricacao, km_total =  2019, 2003, 44410.0\n",
        "km_media = km_total / (ano_atual - ano_fabricacao)\n",
        "km_media"
      ],
      "execution_count": null,
      "outputs": [
        {
          "output_type": "execute_result",
          "data": {
            "text/plain": [
              "2775.625"
            ]
          },
          "metadata": {
            "tags": []
          },
          "execution_count": 30
        }
      ]
    },
    {
      "cell_type": "code",
      "metadata": {
        "id": "x7k5AUiPX9oL"
      },
      "source": [
        ""
      ],
      "execution_count": null,
      "outputs": []
    },
    {
      "cell_type": "markdown",
      "metadata": {
        "id": "uoRXMeRDltlQ"
      },
      "source": [
        "# 2.3 Tipos de dados"
      ]
    },
    {
      "cell_type": "markdown",
      "metadata": {
        "id": "sW_G6EjWltlQ"
      },
      "source": [
        "Os tipos de dados especificam como números e caracteres serão armazenados e manipulados dentro de um programa. Os tipos de dados básicos do Python são:\n",
        "\n",
        "1. **Números**\n",
        "    1. ***int*** - Inteiros\n",
        "    - ***float*** - Ponto flutuante\n",
        "- **Booleanos** - Assume os valores True ou False. Essencial quando começarmos a trabalhar com declarações condicionais\n",
        "- ***Strings*** - Sequência de um ou mais caracteres que pode incluir letras, números e outros tipos de caracteres. Representa um texto.\n",
        "- **None** - Representa a ausência de valor"
      ]
    },
    {
      "cell_type": "markdown",
      "metadata": {
        "id": "-HRRxQOtltlQ"
      },
      "source": [
        "### Números"
      ]
    },
    {
      "cell_type": "code",
      "metadata": {
        "id": "5PKIcIuUltlR"
      },
      "source": [
        ""
      ],
      "execution_count": null,
      "outputs": []
    },
    {
      "cell_type": "code",
      "metadata": {
        "id": "G32Yd1g0ltlT"
      },
      "source": [
        ""
      ],
      "execution_count": null,
      "outputs": []
    },
    {
      "cell_type": "code",
      "metadata": {
        "id": "b9_v__dEltlV"
      },
      "source": [
        ""
      ],
      "execution_count": null,
      "outputs": []
    },
    {
      "cell_type": "code",
      "metadata": {
        "id": "A0nySb3LltlZ"
      },
      "source": [
        ""
      ],
      "execution_count": null,
      "outputs": []
    },
    {
      "cell_type": "markdown",
      "metadata": {
        "id": "7X9iheAnltld"
      },
      "source": [
        "### Booleanos"
      ]
    },
    {
      "cell_type": "code",
      "metadata": {
        "id": "liUYdchPltle"
      },
      "source": [
        ""
      ],
      "execution_count": null,
      "outputs": []
    },
    {
      "cell_type": "code",
      "metadata": {
        "id": "oZIQAghaltlh"
      },
      "source": [
        ""
      ],
      "execution_count": null,
      "outputs": []
    },
    {
      "cell_type": "code",
      "metadata": {
        "id": "XCAYApe3ltlj"
      },
      "source": [
        ""
      ],
      "execution_count": null,
      "outputs": []
    },
    {
      "cell_type": "code",
      "metadata": {
        "id": "mJ0nGEV7ltll"
      },
      "source": [
        ""
      ],
      "execution_count": null,
      "outputs": []
    },
    {
      "cell_type": "markdown",
      "metadata": {
        "id": "Ipjq4eiSltlp"
      },
      "source": [
        "### Strings"
      ]
    },
    {
      "cell_type": "code",
      "metadata": {
        "colab": {
          "base_uri": "https://localhost:8080/",
          "height": 35
        },
        "id": "OeW_GQzOltlr",
        "outputId": "91c95c3a-7e8d-42fe-db8f-2ea70311a1b3"
      },
      "source": [
        "nome = 'Jetta Variant'\n",
        "nome"
      ],
      "execution_count": null,
      "outputs": [
        {
          "output_type": "execute_result",
          "data": {
            "application/vnd.google.colaboratory.intrinsic+json": {
              "type": "string"
            },
            "text/plain": [
              "'Jetta Variant'"
            ]
          },
          "metadata": {
            "tags": []
          },
          "execution_count": 31
        }
      ]
    },
    {
      "cell_type": "code",
      "metadata": {
        "colab": {
          "base_uri": "https://localhost:8080/",
          "height": 35
        },
        "id": "xF1Bi-Rkltlu",
        "outputId": "187c8ee1-a6ef-4bbb-ede1-d71eca24863e"
      },
      "source": [
        "nome = \"Jetta Variant\"\n",
        "nome"
      ],
      "execution_count": null,
      "outputs": [
        {
          "output_type": "execute_result",
          "data": {
            "application/vnd.google.colaboratory.intrinsic+json": {
              "type": "string"
            },
            "text/plain": [
              "'Jetta Variant'"
            ]
          },
          "metadata": {
            "tags": []
          },
          "execution_count": 32
        }
      ]
    },
    {
      "cell_type": "code",
      "metadata": {
        "id": "QlobSFUtltlw"
      },
      "source": [
        ""
      ],
      "execution_count": null,
      "outputs": []
    },
    {
      "cell_type": "code",
      "metadata": {
        "id": "8LBWzzfbltly"
      },
      "source": [
        ""
      ],
      "execution_count": null,
      "outputs": []
    },
    {
      "cell_type": "code",
      "metadata": {
        "id": "ycEhoxtUltl0"
      },
      "source": [
        ""
      ],
      "execution_count": null,
      "outputs": []
    },
    {
      "cell_type": "code",
      "metadata": {
        "id": "bjZQzpuUltl2"
      },
      "source": [
        ""
      ],
      "execution_count": null,
      "outputs": []
    },
    {
      "cell_type": "markdown",
      "metadata": {
        "id": "w6bJU-R9ltl5"
      },
      "source": [
        "### None"
      ]
    },
    {
      "cell_type": "code",
      "metadata": {
        "id": "RgeVhXGxltl5"
      },
      "source": [
        "quilometragem = None \n",
        "quilometragem\n"
      ],
      "execution_count": null,
      "outputs": []
    },
    {
      "cell_type": "code",
      "metadata": {
        "colab": {
          "base_uri": "https://localhost:8080/"
        },
        "id": "MJI6PKS6ltl8",
        "outputId": "9280eaf3-f19b-4c19-fcbb-d6c9da5cffa7"
      },
      "source": [
        "type(quilometragem)"
      ],
      "execution_count": null,
      "outputs": [
        {
          "output_type": "execute_result",
          "data": {
            "text/plain": [
              "NoneType"
            ]
          },
          "metadata": {
            "tags": []
          },
          "execution_count": 37
        }
      ]
    },
    {
      "cell_type": "markdown",
      "metadata": {
        "id": "_ilupwV-ltl-"
      },
      "source": [
        "# 2.4 Conversão de tipos"
      ]
    },
    {
      "cell_type": "code",
      "metadata": {
        "id": "D5hq5Qbvltl-"
      },
      "source": [
        "a = 10\n",
        "b= 20\n",
        "c = 'python é '\n",
        "d= 'legal'\n"
      ],
      "execution_count": null,
      "outputs": []
    },
    {
      "cell_type": "code",
      "metadata": {
        "colab": {
          "base_uri": "https://localhost:8080/"
        },
        "id": "aJ0vi8_Nltl_",
        "outputId": "64c09818-e160-4f10-e11c-5d5b7d4960d0"
      },
      "source": [
        "type(a)\n"
      ],
      "execution_count": null,
      "outputs": [
        {
          "output_type": "execute_result",
          "data": {
            "text/plain": [
              "int"
            ]
          },
          "metadata": {
            "tags": []
          },
          "execution_count": 41
        }
      ]
    },
    {
      "cell_type": "code",
      "metadata": {
        "colab": {
          "base_uri": "https://localhost:8080/"
        },
        "id": "29FVH7p7ltmB",
        "outputId": "29ad378d-e431-40b2-950f-387915c1110c"
      },
      "source": [
        "type(b)"
      ],
      "execution_count": null,
      "outputs": [
        {
          "output_type": "execute_result",
          "data": {
            "text/plain": [
              "int"
            ]
          },
          "metadata": {
            "tags": []
          },
          "execution_count": 42
        }
      ]
    },
    {
      "cell_type": "code",
      "metadata": {
        "colab": {
          "base_uri": "https://localhost:8080/"
        },
        "id": "NGseTO2SltmC",
        "outputId": "4dce354a-e7f6-40d9-bdc3-a0ca872609e7"
      },
      "source": [
        "type(c)"
      ],
      "execution_count": null,
      "outputs": [
        {
          "output_type": "execute_result",
          "data": {
            "text/plain": [
              "str"
            ]
          },
          "metadata": {
            "tags": []
          },
          "execution_count": 43
        }
      ]
    },
    {
      "cell_type": "code",
      "metadata": {
        "colab": {
          "base_uri": "https://localhost:8080/"
        },
        "id": "yaSBhwNWltmE",
        "outputId": "6bfb4a29-5303-4389-b036-36aa0f3f2b70"
      },
      "source": [
        "type(d)"
      ],
      "execution_count": null,
      "outputs": [
        {
          "output_type": "execute_result",
          "data": {
            "text/plain": [
              "str"
            ]
          },
          "metadata": {
            "tags": []
          },
          "execution_count": 44
        }
      ]
    },
    {
      "cell_type": "code",
      "metadata": {
        "colab": {
          "base_uri": "https://localhost:8080/",
          "height": 35
        },
        "id": "5zMXVwLHltmF",
        "outputId": "1af1da99-96bf-490b-ea3f-a149406814ca"
      },
      "source": [
        "c + d\n"
      ],
      "execution_count": null,
      "outputs": [
        {
          "output_type": "execute_result",
          "data": {
            "application/vnd.google.colaboratory.intrinsic+json": {
              "type": "string"
            },
            "text/plain": [
              "'python é legal'"
            ]
          },
          "metadata": {
            "tags": []
          },
          "execution_count": 47
        }
      ]
    },
    {
      "cell_type": "code",
      "metadata": {
        "id": "JJrqKRZFltmJ"
      },
      "source": [
        "#c + a\n"
      ],
      "execution_count": null,
      "outputs": []
    },
    {
      "cell_type": "markdown",
      "metadata": {
        "id": "dByigpENltmO"
      },
      "source": [
        "### Conversões de tipo\n",
        "\n",
        "Funções int(), float(), str()"
      ]
    },
    {
      "cell_type": "code",
      "metadata": {
        "colab": {
          "base_uri": "https://localhost:8080/",
          "height": 35
        },
        "id": "MtecvWlsltmP",
        "outputId": "4160f879-a03b-4110-ae31-8c22a049ac63"
      },
      "source": [
        "str(a)"
      ],
      "execution_count": null,
      "outputs": [
        {
          "output_type": "execute_result",
          "data": {
            "application/vnd.google.colaboratory.intrinsic+json": {
              "type": "string"
            },
            "text/plain": [
              "'10'"
            ]
          },
          "metadata": {
            "tags": []
          },
          "execution_count": 54
        }
      ]
    },
    {
      "cell_type": "code",
      "metadata": {
        "colab": {
          "base_uri": "https://localhost:8080/"
        },
        "id": "S1NuIhDVltmS",
        "outputId": "a1d4b458-ab89-4f2e-cf3d-88c024628c59"
      },
      "source": [
        "type(str(a))"
      ],
      "execution_count": null,
      "outputs": [
        {
          "output_type": "execute_result",
          "data": {
            "text/plain": [
              "str"
            ]
          },
          "metadata": {
            "tags": []
          },
          "execution_count": 55
        }
      ]
    },
    {
      "cell_type": "code",
      "metadata": {
        "colab": {
          "base_uri": "https://localhost:8080/",
          "height": 35
        },
        "id": "3kCUD1X-ltmT",
        "outputId": "1d999958-f145-4cc1-ec03-6e2a6604f736"
      },
      "source": [
        "c + str(a)"
      ],
      "execution_count": null,
      "outputs": [
        {
          "output_type": "execute_result",
          "data": {
            "application/vnd.google.colaboratory.intrinsic+json": {
              "type": "string"
            },
            "text/plain": [
              "'python é 10'"
            ]
          },
          "metadata": {
            "tags": []
          },
          "execution_count": 56
        }
      ]
    },
    {
      "cell_type": "code",
      "metadata": {
        "colab": {
          "base_uri": "https://localhost:8080/"
        },
        "id": "TTjSEVRaltmU",
        "outputId": "ce7954bf-fa9c-4b5c-b651-2bbcb43a0acc"
      },
      "source": [
        "float (a)"
      ],
      "execution_count": null,
      "outputs": [
        {
          "output_type": "execute_result",
          "data": {
            "text/plain": [
              "10.0"
            ]
          },
          "metadata": {
            "tags": []
          },
          "execution_count": 57
        }
      ]
    },
    {
      "cell_type": "code",
      "metadata": {
        "id": "P1P1bXaYltmV"
      },
      "source": [
        ""
      ],
      "execution_count": null,
      "outputs": []
    },
    {
      "cell_type": "code",
      "metadata": {
        "id": "F_8Cn0aAltmW"
      },
      "source": [
        "var = 3.14256"
      ],
      "execution_count": null,
      "outputs": []
    },
    {
      "cell_type": "code",
      "metadata": {
        "colab": {
          "base_uri": "https://localhost:8080/"
        },
        "id": "_KA6MUgmltmY",
        "outputId": "498fba55-01ba-44a3-9342-3fdff7e8fea2"
      },
      "source": [
        "int(var)"
      ],
      "execution_count": null,
      "outputs": [
        {
          "output_type": "execute_result",
          "data": {
            "text/plain": [
              "3"
            ]
          },
          "metadata": {
            "tags": []
          },
          "execution_count": 60
        }
      ]
    },
    {
      "cell_type": "code",
      "metadata": {
        "id": "7uiCxqUcltma"
      },
      "source": [
        "var = 3.99"
      ],
      "execution_count": null,
      "outputs": []
    },
    {
      "cell_type": "code",
      "metadata": {
        "colab": {
          "base_uri": "https://localhost:8080/"
        },
        "id": "EXvosNucowcv",
        "outputId": "6257c950-5e10-4d85-ee6e-71396c276a81"
      },
      "source": [
        "int(var)"
      ],
      "execution_count": null,
      "outputs": [
        {
          "output_type": "execute_result",
          "data": {
            "text/plain": [
              "3"
            ]
          },
          "metadata": {
            "tags": []
          },
          "execution_count": 62
        }
      ]
    },
    {
      "cell_type": "code",
      "metadata": {
        "colab": {
          "base_uri": "https://localhost:8080/",
          "height": 35
        },
        "id": "-RQ9y8lFpDyA",
        "outputId": "5351ef9a-5ba6-466f-dca9-f4813836c61c"
      },
      "source": [
        "text = 'A quilometragem média do veículo é '\n",
        "Km = 100000\n",
        "Ano_atual = 2019\n",
        "Ano_fabricacao = 1999\n",
        "km_media = km_total / (ano_atual - ano_fabricacao)\n",
        "text + str( km_total / (ano_atual - ano_fabricacao))"
      ],
      "execution_count": null,
      "outputs": [
        {
          "output_type": "execute_result",
          "data": {
            "application/vnd.google.colaboratory.intrinsic+json": {
              "type": "string"
            },
            "text/plain": [
              "'A quilometragem média do veículo é 2775.625'"
            ]
          },
          "metadata": {
            "tags": []
          },
          "execution_count": 65
        }
      ]
    },
    {
      "cell_type": "markdown",
      "metadata": {
        "id": "gGpflJMYltmd"
      },
      "source": [
        "# 2.5 Indentação, comentários e formatação de *strings*"
      ]
    },
    {
      "cell_type": "markdown",
      "metadata": {
        "id": "XbijUgqVltmw"
      },
      "source": [
        "### Indentação\n",
        "\n",
        "Na linguagem Python os programas são estruturados por meio de indentação. Em qualquer linguagem de programação a prática da indentação é bastante útil, facilitando a leitura e também a manutenção do código. Em Python a indentação não é somente uma questão de organização e estilo, mas sim um requisito da linguagem."
      ]
    },
    {
      "cell_type": "code",
      "metadata": {
        "colab": {
          "base_uri": "https://localhost:8080/"
        },
        "id": "DqXANnyultmw",
        "outputId": "e296dded-ce82-4761-d33a-912c64de39a4"
      },
      "source": [
        "ano_atual = 2019\n",
        "ano_fabricacao = 2019\n",
        "\n",
        "if (ano_atual == ano_fabricacao):\n",
        "  print('Verdadeiro')\n",
        "else:\n",
        "    print('Falso')"
      ],
      "execution_count": null,
      "outputs": [
        {
          "output_type": "stream",
          "text": [
            "Verdadeiro\n"
          ],
          "name": "stdout"
        }
      ]
    },
    {
      "cell_type": "markdown",
      "metadata": {
        "id": "dNBfv7x7ltmy"
      },
      "source": [
        "### Comentários\n",
        "\n",
        "Comentários são extremamente importantes em um programa. Consiste em um texto que descreve o que o programa ou uma parte específica do programa está fazendo. Os comentários são ignorados pelo interpretador Python. \n",
        "\n",
        "Podemos ter comentários de uma única linha ou de múltiplas linhas."
      ]
    },
    {
      "cell_type": "code",
      "metadata": {
        "id": "GN3DfwiRltmy"
      },
      "source": [
        "# Isto é um comentário\n",
        "ano_atual = 2019\n",
        "ano_atual"
      ],
      "execution_count": null,
      "outputs": []
    },
    {
      "cell_type": "code",
      "metadata": {
        "id": "PICBiohFltm2"
      },
      "source": [
        "# Isto\n",
        "# é um \n",
        "# comentário\n",
        "ano_atual = 2019\n",
        "ano_atual"
      ],
      "execution_count": null,
      "outputs": []
    },
    {
      "cell_type": "code",
      "metadata": {
        "id": "PTkJ4Vjultm4"
      },
      "source": [
        "'''Isto é um\n",
        "comentário'''\n",
        "ano_atual = 2019\n",
        "ano_atual"
      ],
      "execution_count": null,
      "outputs": []
    },
    {
      "cell_type": "code",
      "metadata": {
        "id": "SYEGdALxltm5"
      },
      "source": [
        "# Definindo variáveis\n",
        "ano_atual = 2019\n",
        "ano_fabricacao = 2019\n",
        "\n",
        "'''\n",
        "Estrutura condicional que vamos \n",
        "aprender na próxima aula\n",
        "'''\n",
        "if (ano_atual == ano_fabricacao):   # Testando se condição é verdadeira\n",
        "    print('Verdadeiro')\n",
        "else:                               # Testando se condição é falsa\n",
        "    print('Falso')"
      ],
      "execution_count": null,
      "outputs": []
    },
    {
      "cell_type": "markdown",
      "metadata": {
        "id": "8--bcJ01ltm8"
      },
      "source": [
        "### Formatação de *strings*"
      ]
    },
    {
      "cell_type": "markdown",
      "metadata": {
        "id": "8lSC0XEDltm-"
      },
      "source": [
        "## *str % valor*\n",
        "https://docs.python.org/3.6/library/stdtypes.html#old-string-formatting"
      ]
    },
    {
      "cell_type": "code",
      "metadata": {
        "id": "aqqBQJ8kltm_"
      },
      "source": [
        ""
      ],
      "execution_count": null,
      "outputs": []
    },
    {
      "cell_type": "code",
      "metadata": {
        "id": "EFK1y92vltnA"
      },
      "source": [
        ""
      ],
      "execution_count": null,
      "outputs": []
    },
    {
      "cell_type": "code",
      "metadata": {
        "id": "3Y-V_AVDltnD"
      },
      "source": [
        ""
      ],
      "execution_count": null,
      "outputs": []
    },
    {
      "cell_type": "code",
      "metadata": {
        "id": "pr4wrDaSltnE"
      },
      "source": [
        ""
      ],
      "execution_count": null,
      "outputs": []
    },
    {
      "cell_type": "code",
      "metadata": {
        "id": "iQVGzKNvltnF"
      },
      "source": [
        ""
      ],
      "execution_count": null,
      "outputs": []
    },
    {
      "cell_type": "markdown",
      "metadata": {
        "id": "CMovhJZ_ltnG"
      },
      "source": [
        "## *str.format()*\n",
        "\n",
        "https://docs.python.org/3.6/library/stdtypes.html#str.format"
      ]
    },
    {
      "cell_type": "code",
      "metadata": {
        "colab": {
          "base_uri": "https://localhost:8080/"
        },
        "id": "N12xmMehltnG",
        "outputId": "8b57e512-a105-439c-fccb-e0c045c04865"
      },
      "source": [
        "print('olá  {}!'.format('Nathalia'))"
      ],
      "execution_count": null,
      "outputs": [
        {
          "output_type": "stream",
          "text": [
            "olá  Nathalia!\n"
          ],
          "name": "stdout"
        }
      ]
    },
    {
      "cell_type": "code",
      "metadata": {
        "colab": {
          "base_uri": "https://localhost:8080/"
        },
        "id": "mRBmU9G1ltnJ",
        "outputId": "224fc68c-2e2f-4443-a9fa-3ad1143633cd"
      },
      "source": [
        "print('olá,  {}! Esse é seu acesso de numero {}'.format('Nathalia',32))"
      ],
      "execution_count": null,
      "outputs": [
        {
          "output_type": "stream",
          "text": [
            "olá,  Nathalia! Esse é seu acesso de numero 32\n"
          ],
          "name": "stdout"
        }
      ]
    },
    {
      "cell_type": "code",
      "metadata": {
        "colab": {
          "base_uri": "https://localhost:8080/"
        },
        "id": "wpqEsTwnltnL",
        "outputId": "043402b2-d7d5-4d27-96ef-e64d660cbb00"
      },
      "source": [
        "print('olá,  {nome}! Esse é seu acesso de numero {acesso}'.format(nome = 'Nathalia', acesso = 32))"
      ],
      "execution_count": null,
      "outputs": [
        {
          "output_type": "stream",
          "text": [
            "olá,  Nathalia! Esse é seu acesso de numero 32\n"
          ],
          "name": "stdout"
        }
      ]
    },
    {
      "cell_type": "markdown",
      "metadata": {
        "id": "V-wPNUN9ltnN"
      },
      "source": [
        "## *f-Strings*\n",
        "\n",
        "https://docs.python.org/3.6/reference/lexical_analysis.html#f-strings"
      ]
    },
    {
      "cell_type": "code",
      "metadata": {
        "id": "7Fq_WPv0ltnO"
      },
      "source": [
        "nome = 'Nathalia'\n",
        "acesso = 32"
      ],
      "execution_count": null,
      "outputs": []
    },
    {
      "cell_type": "code",
      "metadata": {
        "colab": {
          "base_uri": "https://localhost:8080/"
        },
        "id": "bE3qbd6WltnR",
        "outputId": "6973efd3-cf50-4c85-a6fd-e5b979ddaebd"
      },
      "source": [
        "print(f'olá {nome}, esse é seu numero de acesso a plataforma é {acesso}')"
      ],
      "execution_count": null,
      "outputs": [
        {
          "output_type": "stream",
          "text": [
            "olá Nathalia, esse é seu numero de acesso a plataforma é 32\n"
          ],
          "name": "stdout"
        }
      ]
    },
    {
      "cell_type": "code",
      "metadata": {
        "id": "pLjrT_kfovYe"
      },
      "source": [
        ""
      ],
      "execution_count": null,
      "outputs": []
    },
    {
      "cell_type": "markdown",
      "metadata": {
        "id": "_IZuNE48ltnS"
      },
      "source": [
        "# <font color=green> 3. TRABALHANDO COM LISTAS\n",
        "---"
      ]
    },
    {
      "cell_type": "markdown",
      "metadata": {
        "id": "zhS89xysltnS"
      },
      "source": [
        "# 3.1 Criando listas\n",
        "\n",
        "Listas são sequências **mutáveis** que são utilizadas para armazenar coleções de itens, geralmente homogêneos. Podem ser construídas de várias formas:\n",
        "```\n",
        "- Utilizando um par de colchetes: [ ], [ 1 ]\n",
        "- Utilizando um par de colchetes com itens separados por vírgulas: [ 1, 2, 3 ]\n",
        "```"
      ]
    },
    {
      "cell_type": "code",
      "metadata": {
        "colab": {
          "base_uri": "https://localhost:8080/"
        },
        "id": "aE4UWF10ltnS",
        "outputId": "ac8cc472-8b24-4b9f-923d-1d4878325d30"
      },
      "source": [
        "Acessorios = ['Rodas de liga', 'Travas elétricas', 'Piloto automático', 'Bancos de couro', 'Ar condicionado', 'Sensor de estacionamento', 'Sensor crepuscular', 'Sensor de chuva']\n",
        "Acessorios"
      ],
      "execution_count": null,
      "outputs": [
        {
          "output_type": "execute_result",
          "data": {
            "text/plain": [
              "['Rodas de liga',\n",
              " 'Travas elétricas',\n",
              " 'Piloto automático',\n",
              " 'Bancos de couro',\n",
              " 'Ar condicionado',\n",
              " 'Sensor de estacionamento',\n",
              " 'Sensor crepuscular',\n",
              " 'Sensor de chuva']"
            ]
          },
          "metadata": {
            "tags": []
          },
          "execution_count": 85
        }
      ]
    },
    {
      "cell_type": "code",
      "metadata": {
        "colab": {
          "base_uri": "https://localhost:8080/"
        },
        "id": "K9zq-HOcww9x",
        "outputId": "3d098c4c-3c8d-4e82-fb7f-b987e186f235"
      },
      "source": [
        "type(Acessorios)"
      ],
      "execution_count": null,
      "outputs": [
        {
          "output_type": "execute_result",
          "data": {
            "text/plain": [
              "list"
            ]
          },
          "metadata": {
            "tags": []
          },
          "execution_count": 87
        }
      ]
    },
    {
      "cell_type": "markdown",
      "metadata": {
        "id": "Mmlkh5TVltnT"
      },
      "source": [
        "### Lista com tipos de dados variados"
      ]
    },
    {
      "cell_type": "code",
      "metadata": {
        "id": "Mfpu7NoJltnT"
      },
      "source": [
        "Carro_1 = ['Jetta Variant', 'Motor 4.0 Turbo', 2003, 44410.0, False, ['Rodas de liga', 'Travas elétricas', 'Piloto automático'], 88078.64]\n",
        "Carro_2 = ['Passat', 'Motor Diesel', 1991, 5712.0, False, ['Central multimídia', 'Teto panorâmico', 'Freios ABS'], 106161.94]"
      ],
      "execution_count": null,
      "outputs": []
    },
    {
      "cell_type": "code",
      "metadata": {
        "colab": {
          "base_uri": "https://localhost:8080/"
        },
        "id": "cjmqhzOWxHQq",
        "outputId": "c8cd5a67-ca4c-4305-eafa-5ca598d5dcd9"
      },
      "source": [
        "Carro_1"
      ],
      "execution_count": null,
      "outputs": [
        {
          "output_type": "execute_result",
          "data": {
            "text/plain": [
              "['Jetta Variant',\n",
              " 'Motor 4.0 Turbo',\n",
              " 2003,\n",
              " 44410.0,\n",
              " False,\n",
              " ['Rodas de liga', 'Travas elétricas', 'Piloto automático'],\n",
              " 88078.64]"
            ]
          },
          "metadata": {
            "tags": []
          },
          "execution_count": 89
        }
      ]
    },
    {
      "cell_type": "code",
      "metadata": {
        "colab": {
          "base_uri": "https://localhost:8080/"
        },
        "id": "EJSJFJjKltnV",
        "outputId": "99c4eb1d-1547-45b5-f39f-a88988f997da"
      },
      "source": [
        "Carro_2\n"
      ],
      "execution_count": null,
      "outputs": [
        {
          "output_type": "execute_result",
          "data": {
            "text/plain": [
              "['Passat',\n",
              " 'Motor Diesel',\n",
              " 1991,\n",
              " 5712.0,\n",
              " False,\n",
              " ['Central multimídia', 'Teto panorâmico', 'Freios ABS'],\n",
              " 106161.94]"
            ]
          },
          "metadata": {
            "tags": []
          },
          "execution_count": 90
        }
      ]
    },
    {
      "cell_type": "code",
      "metadata": {
        "id": "7MMG7L8VltnX"
      },
      "source": [
        "carros = [Carro_1 + Carro_2]"
      ],
      "execution_count": null,
      "outputs": []
    },
    {
      "cell_type": "code",
      "metadata": {
        "colab": {
          "base_uri": "https://localhost:8080/"
        },
        "id": "7E8erLgZltnZ",
        "outputId": "a0379a6a-fd30-49bc-8adb-7759c2b5403b"
      },
      "source": [
        "carros"
      ],
      "execution_count": null,
      "outputs": [
        {
          "output_type": "execute_result",
          "data": {
            "text/plain": [
              "[['Jetta Variant',\n",
              "  'Motor 4.0 Turbo',\n",
              "  2003,\n",
              "  44410.0,\n",
              "  False,\n",
              "  ['Rodas de liga', 'Travas elétricas', 'Piloto automático'],\n",
              "  88078.64,\n",
              "  'Passat',\n",
              "  'Motor Diesel',\n",
              "  1991,\n",
              "  5712.0,\n",
              "  False,\n",
              "  ['Central multimídia', 'Teto panorâmico', 'Freios ABS'],\n",
              "  106161.94]]"
            ]
          },
          "metadata": {
            "tags": []
          },
          "execution_count": 92
        }
      ]
    },
    {
      "cell_type": "markdown",
      "metadata": {
        "id": "5yMXJ0xdltna"
      },
      "source": [
        "# 3.2 Operações com listas\n",
        "\n",
        "https://docs.python.org/3.6/library/stdtypes.html#common-sequence-operations"
      ]
    },
    {
      "cell_type": "markdown",
      "metadata": {
        "id": "YSorJOGlltna"
      },
      "source": [
        "## *x in A*\n",
        "\n",
        "Retorna **True** se um elemento da lista *A* for igual a *x*."
      ]
    },
    {
      "cell_type": "code",
      "metadata": {
        "colab": {
          "base_uri": "https://localhost:8080/"
        },
        "id": "GgSP_nlHltnb",
        "outputId": "91d32aec-5ada-4668-d34f-c869519f88f5"
      },
      "source": [
        "Acessorios\n"
      ],
      "execution_count": null,
      "outputs": [
        {
          "output_type": "execute_result",
          "data": {
            "text/plain": [
              "['Rodas de liga',\n",
              " 'Travas elétricas',\n",
              " 'Piloto automático',\n",
              " 'Bancos de couro',\n",
              " 'Ar condicionado',\n",
              " 'Sensor de estacionamento',\n",
              " 'Sensor crepuscular',\n",
              " 'Sensor de chuva']"
            ]
          },
          "metadata": {
            "tags": []
          },
          "execution_count": 94
        }
      ]
    },
    {
      "cell_type": "code",
      "metadata": {
        "colab": {
          "base_uri": "https://localhost:8080/"
        },
        "id": "_JyyHPmWltnd",
        "outputId": "b755b8e3-8b3f-40c9-cbb2-0b25c14b1530"
      },
      "source": [
        "'Rodas de liga' in Acessorios"
      ],
      "execution_count": null,
      "outputs": [
        {
          "output_type": "execute_result",
          "data": {
            "text/plain": [
              "True"
            ]
          },
          "metadata": {
            "tags": []
          },
          "execution_count": 95
        }
      ]
    },
    {
      "cell_type": "code",
      "metadata": {
        "colab": {
          "base_uri": "https://localhost:8080/"
        },
        "id": "tebg9gAyltne",
        "outputId": "76d1bab4-7c39-4f74-ad94-11c1cb0389dc"
      },
      "source": [
        "'4x4' in Acessorios"
      ],
      "execution_count": null,
      "outputs": [
        {
          "output_type": "execute_result",
          "data": {
            "text/plain": [
              "False"
            ]
          },
          "metadata": {
            "tags": []
          },
          "execution_count": 96
        }
      ]
    },
    {
      "cell_type": "code",
      "metadata": {
        "colab": {
          "base_uri": "https://localhost:8080/"
        },
        "id": "W_1PKJYsltnf",
        "outputId": "093f918e-89f8-426b-f9f4-3dd34e5602f8"
      },
      "source": [
        "'Rodas de liga' not in Acessorios"
      ],
      "execution_count": null,
      "outputs": [
        {
          "output_type": "execute_result",
          "data": {
            "text/plain": [
              "False"
            ]
          },
          "metadata": {
            "tags": []
          },
          "execution_count": 97
        }
      ]
    },
    {
      "cell_type": "code",
      "metadata": {
        "colab": {
          "base_uri": "https://localhost:8080/"
        },
        "id": "1WNsBXFyltng",
        "outputId": "098ab4bf-c3bb-4a1a-db5b-0bb904c65d74"
      },
      "source": [
        "'4x4' not in Acessorios"
      ],
      "execution_count": null,
      "outputs": [
        {
          "output_type": "execute_result",
          "data": {
            "text/plain": [
              "True"
            ]
          },
          "metadata": {
            "tags": []
          },
          "execution_count": 98
        }
      ]
    },
    {
      "cell_type": "markdown",
      "metadata": {
        "id": "RF6_rf90ltnh"
      },
      "source": [
        "## *A + B*\n",
        "\n",
        "Concatena as listas *A* e *B*."
      ]
    },
    {
      "cell_type": "code",
      "metadata": {
        "id": "8lnzbYnRltnh"
      },
      "source": [
        "A = ['Rodas de liga', 'Travas elétricas', 'Piloto automático', 'Bancos de couro']\n",
        "B = ['Ar condicionado', 'Sensor de estacionamento', 'Sensor crepuscular', 'Sensor de chuva']"
      ],
      "execution_count": null,
      "outputs": []
    },
    {
      "cell_type": "code",
      "metadata": {
        "colab": {
          "base_uri": "https://localhost:8080/"
        },
        "id": "SzbiHHF4ltni",
        "outputId": "cfd451be-812e-4bc9-a9ea-04392ca6780e"
      },
      "source": [
        "A + B"
      ],
      "execution_count": null,
      "outputs": [
        {
          "output_type": "execute_result",
          "data": {
            "text/plain": [
              "['Rodas de liga',\n",
              " 'Travas elétricas',\n",
              " 'Piloto automático',\n",
              " 'Bancos de couro',\n",
              " 'Ar condicionado',\n",
              " 'Sensor de estacionamento',\n",
              " 'Sensor crepuscular',\n",
              " 'Sensor de chuva']"
            ]
          },
          "metadata": {
            "tags": []
          },
          "execution_count": 100
        }
      ]
    },
    {
      "cell_type": "code",
      "metadata": {
        "id": "It5Cn5aXltni"
      },
      "source": [
        ""
      ],
      "execution_count": null,
      "outputs": []
    },
    {
      "cell_type": "code",
      "metadata": {
        "id": "l7gF4Ph5ltnj"
      },
      "source": [
        ""
      ],
      "execution_count": null,
      "outputs": []
    },
    {
      "cell_type": "markdown",
      "metadata": {
        "id": "iTv5t7zAltnk"
      },
      "source": [
        "## *len(A)*\n",
        "\n",
        "Tamanho da lista A."
      ]
    },
    {
      "cell_type": "code",
      "metadata": {
        "colab": {
          "base_uri": "https://localhost:8080/"
        },
        "id": "dtbuCDSOltnk",
        "outputId": "26e75c3a-dda0-4264-8eef-f07622ba79c9"
      },
      "source": [
        "len(Acessorios)"
      ],
      "execution_count": null,
      "outputs": [
        {
          "output_type": "execute_result",
          "data": {
            "text/plain": [
              "8"
            ]
          },
          "metadata": {
            "tags": []
          },
          "execution_count": 101
        }
      ]
    },
    {
      "cell_type": "code",
      "metadata": {
        "colab": {
          "base_uri": "https://localhost:8080/"
        },
        "id": "n_w1Iu-bzU43",
        "outputId": "4611badd-ac44-4b46-d121-5624272ca58b"
      },
      "source": [
        "carro = [\n",
        "    'Jetta Variant', \n",
        "    'Motor 4.0 Turbo', \n",
        "    2003, \n",
        "    44410.0, \n",
        "    False, \n",
        "    ['Rodas de liga', 'Travas elétricas', 'Piloto automático'], \n",
        "    88078.64\n",
        "]\n",
        "carro"
      ],
      "execution_count": null,
      "outputs": [
        {
          "output_type": "execute_result",
          "data": {
            "text/plain": [
              "['Jetta Variant',\n",
              " 'Motor 4.0 Turbo',\n",
              " 2003,\n",
              " 44410.0,\n",
              " False,\n",
              " ['Rodas de liga', 'Travas elétricas', 'Piloto automático'],\n",
              " 88078.64]"
            ]
          },
          "metadata": {
            "tags": []
          },
          "execution_count": 103
        }
      ]
    },
    {
      "cell_type": "code",
      "metadata": {
        "colab": {
          "base_uri": "https://localhost:8080/"
        },
        "id": "IJ13bJZfzXvx",
        "outputId": "ed4167c9-2e26-441a-cd6b-b510d0730c39"
      },
      "source": [
        "'2003' in carro\n"
      ],
      "execution_count": null,
      "outputs": [
        {
          "output_type": "execute_result",
          "data": {
            "text/plain": [
              "False"
            ]
          },
          "metadata": {
            "tags": []
          },
          "execution_count": 104
        }
      ]
    },
    {
      "cell_type": "markdown",
      "metadata": {
        "id": "k7wWCbAmltnl"
      },
      "source": [
        "# 3.3 Seleções em listas"
      ]
    },
    {
      "cell_type": "markdown",
      "metadata": {
        "id": "uF3NmgUaltnl"
      },
      "source": [
        "## *A[ i ]*\n",
        "\n",
        "Retorna o i-ésimo item da lista *A*.\n",
        "\n",
        "<font color=red>**Observação:**</font> Listas têm indexação com origem no zero."
      ]
    },
    {
      "cell_type": "code",
      "metadata": {
        "colab": {
          "base_uri": "https://localhost:8080/"
        },
        "id": "f5ct7w1Wltnm",
        "outputId": "d2799255-a166-493f-c47c-c6e8175634d8"
      },
      "source": [
        "Acessorios"
      ],
      "execution_count": null,
      "outputs": [
        {
          "output_type": "execute_result",
          "data": {
            "text/plain": [
              "['Rodas de liga',\n",
              " 'Travas elétricas',\n",
              " 'Piloto automático',\n",
              " 'Bancos de couro',\n",
              " 'Ar condicionado',\n",
              " 'Sensor de estacionamento',\n",
              " 'Sensor crepuscular',\n",
              " 'Sensor de chuva']"
            ]
          },
          "metadata": {
            "tags": []
          },
          "execution_count": 105
        }
      ]
    },
    {
      "cell_type": "code",
      "metadata": {
        "colab": {
          "base_uri": "https://localhost:8080/",
          "height": 35
        },
        "id": "-BLG7yifltnn",
        "outputId": "af6cd17c-a79c-4a23-d063-5d3f7a7ea61a"
      },
      "source": [
        "Acessorios[0]"
      ],
      "execution_count": null,
      "outputs": [
        {
          "output_type": "execute_result",
          "data": {
            "application/vnd.google.colaboratory.intrinsic+json": {
              "type": "string"
            },
            "text/plain": [
              "'Rodas de liga'"
            ]
          },
          "metadata": {
            "tags": []
          },
          "execution_count": 106
        }
      ]
    },
    {
      "cell_type": "code",
      "metadata": {
        "colab": {
          "base_uri": "https://localhost:8080/",
          "height": 35
        },
        "id": "SoL6PIjJltno",
        "outputId": "802f16b2-c8e2-4353-ae0c-c812c21f39f3"
      },
      "source": [
        "Acessorios[2]"
      ],
      "execution_count": null,
      "outputs": [
        {
          "output_type": "execute_result",
          "data": {
            "application/vnd.google.colaboratory.intrinsic+json": {
              "type": "string"
            },
            "text/plain": [
              "'Piloto automático'"
            ]
          },
          "metadata": {
            "tags": []
          },
          "execution_count": 107
        }
      ]
    },
    {
      "cell_type": "code",
      "metadata": {
        "colab": {
          "base_uri": "https://localhost:8080/",
          "height": 35
        },
        "id": "pGMDc5FLltnq",
        "outputId": "0b45e227-da6b-49e9-d2ee-78843181c37b"
      },
      "source": [
        "Acessorios [-1]"
      ],
      "execution_count": null,
      "outputs": [
        {
          "output_type": "execute_result",
          "data": {
            "application/vnd.google.colaboratory.intrinsic+json": {
              "type": "string"
            },
            "text/plain": [
              "'Sensor de chuva'"
            ]
          },
          "metadata": {
            "tags": []
          },
          "execution_count": 108
        }
      ]
    },
    {
      "cell_type": "code",
      "metadata": {
        "colab": {
          "base_uri": "https://localhost:8080/"
        },
        "id": "m3AaFe73ltnr",
        "outputId": "343564e8-869d-4968-f361-3e42dc886abe"
      },
      "source": [
        "carros\n"
      ],
      "execution_count": null,
      "outputs": [
        {
          "output_type": "execute_result",
          "data": {
            "text/plain": [
              "[['Jetta Variant',\n",
              "  'Motor 4.0 Turbo',\n",
              "  2003,\n",
              "  44410.0,\n",
              "  False,\n",
              "  ['Rodas de liga', 'Travas elétricas', 'Piloto automático'],\n",
              "  88078.64,\n",
              "  'Passat',\n",
              "  'Motor Diesel',\n",
              "  1991,\n",
              "  5712.0,\n",
              "  False,\n",
              "  ['Central multimídia', 'Teto panorâmico', 'Freios ABS'],\n",
              "  106161.94]]"
            ]
          },
          "metadata": {
            "tags": []
          },
          "execution_count": 110
        }
      ]
    },
    {
      "cell_type": "code",
      "metadata": {
        "colab": {
          "base_uri": "https://localhost:8080/"
        },
        "id": "AeDJviqoltns",
        "outputId": "e640b442-b04e-4b95-a516-1e7412f65fe7"
      },
      "source": [
        "carros[0]"
      ],
      "execution_count": null,
      "outputs": [
        {
          "output_type": "execute_result",
          "data": {
            "text/plain": [
              "['Jetta Variant',\n",
              " 'Motor 4.0 Turbo',\n",
              " 2003,\n",
              " 44410.0,\n",
              " False,\n",
              " ['Rodas de liga', 'Travas elétricas', 'Piloto automático'],\n",
              " 88078.64,\n",
              " 'Passat',\n",
              " 'Motor Diesel',\n",
              " 1991,\n",
              " 5712.0,\n",
              " False,\n",
              " ['Central multimídia', 'Teto panorâmico', 'Freios ABS'],\n",
              " 106161.94]"
            ]
          },
          "metadata": {
            "tags": []
          },
          "execution_count": 111
        }
      ]
    },
    {
      "cell_type": "code",
      "metadata": {
        "colab": {
          "base_uri": "https://localhost:8080/",
          "height": 35
        },
        "id": "KdenG1BZltnt",
        "outputId": "216ef93c-8734-47e8-df3c-8b19b37859ae"
      },
      "source": [
        "carros[0][0]"
      ],
      "execution_count": null,
      "outputs": [
        {
          "output_type": "execute_result",
          "data": {
            "application/vnd.google.colaboratory.intrinsic+json": {
              "type": "string"
            },
            "text/plain": [
              "'Jetta Variant'"
            ]
          },
          "metadata": {
            "tags": []
          },
          "execution_count": 112
        }
      ]
    },
    {
      "cell_type": "code",
      "metadata": {
        "colab": {
          "base_uri": "https://localhost:8080/"
        },
        "id": "iOjsfrlFltnu",
        "outputId": "447108e1-4dc7-40da-dad9-1a038f338866"
      },
      "source": [
        "carros[0][-2]"
      ],
      "execution_count": null,
      "outputs": [
        {
          "output_type": "execute_result",
          "data": {
            "text/plain": [
              "['Central multimídia', 'Teto panorâmico', 'Freios ABS']"
            ]
          },
          "metadata": {
            "tags": []
          },
          "execution_count": 113
        }
      ]
    },
    {
      "cell_type": "code",
      "metadata": {
        "colab": {
          "base_uri": "https://localhost:8080/",
          "height": 35
        },
        "id": "6BrON70Zltnu",
        "outputId": "84723112-fed3-453f-ff86-48994fca488f"
      },
      "source": [
        "carros[0][-2][1]"
      ],
      "execution_count": null,
      "outputs": [
        {
          "output_type": "execute_result",
          "data": {
            "application/vnd.google.colaboratory.intrinsic+json": {
              "type": "string"
            },
            "text/plain": [
              "'Teto panorâmico'"
            ]
          },
          "metadata": {
            "tags": []
          },
          "execution_count": 114
        }
      ]
    },
    {
      "cell_type": "markdown",
      "metadata": {
        "id": "9WgwxPIMltnv"
      },
      "source": [
        "## *A[ i : j ]*\n",
        "\n",
        "Recorta a lista *A* do índice i até o j. Neste fatiamento o elemento com índice i é **incluído** e o elemento com índice j **não é incluído** no resultado."
      ]
    },
    {
      "cell_type": "code",
      "metadata": {
        "colab": {
          "base_uri": "https://localhost:8080/"
        },
        "id": "bJzL2PMiltnv",
        "outputId": "a955927d-95ba-43af-ae07-4f9730a26964"
      },
      "source": [
        "Acessorios"
      ],
      "execution_count": null,
      "outputs": [
        {
          "output_type": "execute_result",
          "data": {
            "text/plain": [
              "['Rodas de liga',\n",
              " 'Travas elétricas',\n",
              " 'Piloto automático',\n",
              " 'Bancos de couro',\n",
              " 'Ar condicionado',\n",
              " 'Sensor de estacionamento',\n",
              " 'Sensor crepuscular',\n",
              " 'Sensor de chuva']"
            ]
          },
          "metadata": {
            "tags": []
          },
          "execution_count": 115
        }
      ]
    },
    {
      "cell_type": "code",
      "metadata": {
        "colab": {
          "base_uri": "https://localhost:8080/"
        },
        "id": "sFAlJ4u_ltnw",
        "outputId": "ea8e974d-e06f-4e62-d475-4119b9bb2378"
      },
      "source": [
        "Acessorios[1:5] #Ele vai até o 5, mas ele n inclui o 5. "
      ],
      "execution_count": null,
      "outputs": [
        {
          "output_type": "execute_result",
          "data": {
            "text/plain": [
              "['Travas elétricas', 'Piloto automático', 'Bancos de couro', 'Ar condicionado']"
            ]
          },
          "metadata": {
            "tags": []
          },
          "execution_count": 117
        }
      ]
    },
    {
      "cell_type": "code",
      "metadata": {
        "colab": {
          "base_uri": "https://localhost:8080/"
        },
        "id": "dFdTBWa9ltnz",
        "outputId": "7d23406a-a16b-4fef-d826-f38030ce76b8"
      },
      "source": [
        "Acessorios [:6]"
      ],
      "execution_count": null,
      "outputs": [
        {
          "output_type": "execute_result",
          "data": {
            "text/plain": [
              "['Rodas de liga',\n",
              " 'Travas elétricas',\n",
              " 'Piloto automático',\n",
              " 'Bancos de couro',\n",
              " 'Ar condicionado',\n",
              " 'Sensor de estacionamento']"
            ]
          },
          "metadata": {
            "tags": []
          },
          "execution_count": 118
        }
      ]
    },
    {
      "cell_type": "code",
      "metadata": {
        "id": "yxxB2-_Dltn0"
      },
      "source": [
        "carros = [\n",
        "    [\n",
        "        'Jetta Variant',\n",
        "        'Motor 4.0 Turbo',\n",
        "        2003,\n",
        "        False,\n",
        "        ['Rodas de liga', 'Travas elétricas', 'Piloto automático']\n",
        "    ],\n",
        "    [\n",
        "        'Passat',\n",
        "        'Motor Diesel',\n",
        "        1991,\n",
        "        True,\n",
        "        ['Central multimídia', 'Teto panorâmico', 'Freios ABS']\n",
        "    ]\n",
        "]"
      ],
      "execution_count": null,
      "outputs": []
    },
    {
      "cell_type": "code",
      "metadata": {
        "colab": {
          "base_uri": "https://localhost:8080/"
        },
        "id": "6Qgg_xYB9Q2n",
        "outputId": "ed22285c-687e-42e9-e18c-7d01535e9286"
      },
      "source": [
        "carros [1][3]\n"
      ],
      "execution_count": null,
      "outputs": [
        {
          "output_type": "execute_result",
          "data": {
            "text/plain": [
              "True"
            ]
          },
          "metadata": {
            "tags": []
          },
          "execution_count": 127
        }
      ]
    },
    {
      "cell_type": "code",
      "metadata": {
        "colab": {
          "base_uri": "https://localhost:8080/",
          "height": 35
        },
        "id": "h13sdrNv9x3W",
        "outputId": "337e9ff1-0ded-4778-8a9d-7e409ac07148"
      },
      "source": [
        "carros[1][4][-2]"
      ],
      "execution_count": null,
      "outputs": [
        {
          "output_type": "execute_result",
          "data": {
            "application/vnd.google.colaboratory.intrinsic+json": {
              "type": "string"
            },
            "text/plain": [
              "'Teto panorâmico'"
            ]
          },
          "metadata": {
            "tags": []
          },
          "execution_count": 137
        }
      ]
    },
    {
      "cell_type": "code",
      "metadata": {
        "colab": {
          "base_uri": "https://localhost:8080/"
        },
        "id": "mbJEKZEk_RxH",
        "outputId": "14c8429c-a619-41a5-ae12-48c6aa7bbd08"
      },
      "source": [
        "carros[0][4]"
      ],
      "execution_count": null,
      "outputs": [
        {
          "output_type": "execute_result",
          "data": {
            "text/plain": [
              "['Rodas de liga', 'Travas elétricas', 'Piloto automático']"
            ]
          },
          "metadata": {
            "tags": []
          },
          "execution_count": 142
        }
      ]
    },
    {
      "cell_type": "markdown",
      "metadata": {
        "id": "R-S-LCPGltn0"
      },
      "source": [
        "# 3.4 Métodos de listas\n",
        "\n",
        "https://docs.python.org/3.6/library/stdtypes.html#mutable-sequence-types"
      ]
    },
    {
      "cell_type": "markdown",
      "metadata": {
        "id": "j9s2OyyPltn1"
      },
      "source": [
        "## *A.sort()*\n",
        "\n",
        "Ordena a lista *A*."
      ]
    },
    {
      "cell_type": "code",
      "metadata": {
        "id": "PsSBBLW43WtQ"
      },
      "source": [
        "from google.colab import drive\n",
        "drive.mount('/content/drive')"
      ],
      "execution_count": null,
      "outputs": []
    },
    {
      "cell_type": "code",
      "metadata": {
        "id": "A2dJGhFsltn1",
        "colab": {
          "base_uri": "https://localhost:8080/"
        },
        "outputId": "773ea5b6-59df-4f7d-9745-daf58ed59a7a"
      },
      "source": [
        "Acessorios = ['Rodas de liga', 'Travas elétricas', 'Piloto automático', 'Bancos de couro', 'Ar condicionado', 'Sensor de estacionamento', 'Sensor crepuscular', 'Sensor de chuva']\n",
        "Acessorios"
      ],
      "execution_count": 1,
      "outputs": [
        {
          "output_type": "execute_result",
          "data": {
            "text/plain": [
              "['Rodas de liga',\n",
              " 'Travas elétricas',\n",
              " 'Piloto automático',\n",
              " 'Bancos de couro',\n",
              " 'Ar condicionado',\n",
              " 'Sensor de estacionamento',\n",
              " 'Sensor crepuscular',\n",
              " 'Sensor de chuva']"
            ]
          },
          "metadata": {
            "tags": []
          },
          "execution_count": 1
        }
      ]
    },
    {
      "cell_type": "code",
      "metadata": {
        "id": "VDWCHlTcltn2"
      },
      "source": [
        "Acessorios.sort()"
      ],
      "execution_count": 4,
      "outputs": []
    },
    {
      "cell_type": "code",
      "metadata": {
        "colab": {
          "base_uri": "https://localhost:8080/"
        },
        "id": "zTS7ikXe4FLu",
        "outputId": "8cbd8279-d5c7-4018-dcea-db4150db0745"
      },
      "source": [
        "Acessorios"
      ],
      "execution_count": 5,
      "outputs": [
        {
          "output_type": "execute_result",
          "data": {
            "text/plain": [
              "['Ar condicionado',\n",
              " 'Bancos de couro',\n",
              " 'Piloto automático',\n",
              " 'Rodas de liga',\n",
              " 'Sensor crepuscular',\n",
              " 'Sensor de chuva',\n",
              " 'Sensor de estacionamento',\n",
              " 'Travas elétricas']"
            ]
          },
          "metadata": {
            "tags": []
          },
          "execution_count": 5
        }
      ]
    },
    {
      "cell_type": "markdown",
      "metadata": {
        "id": "N9Spp7-xltn3"
      },
      "source": [
        "## *A.append(x)*\n",
        "\n",
        "Adiciona o elemnto *x* no final da lista *A*."
      ]
    },
    {
      "cell_type": "code",
      "metadata": {
        "id": "l7I_U-sRltn4"
      },
      "source": [
        "Acessorios.append(' 4 x 4 ')"
      ],
      "execution_count": 6,
      "outputs": []
    },
    {
      "cell_type": "code",
      "metadata": {
        "colab": {
          "base_uri": "https://localhost:8080/"
        },
        "id": "T-TGjEro4TaD",
        "outputId": "22ba5424-cc59-4f38-c684-778ad153e6db"
      },
      "source": [
        "Acessorios"
      ],
      "execution_count": 7,
      "outputs": [
        {
          "output_type": "execute_result",
          "data": {
            "text/plain": [
              "['Ar condicionado',\n",
              " 'Bancos de couro',\n",
              " 'Piloto automático',\n",
              " 'Rodas de liga',\n",
              " 'Sensor crepuscular',\n",
              " 'Sensor de chuva',\n",
              " 'Sensor de estacionamento',\n",
              " 'Travas elétricas',\n",
              " ' 4 x 4 ']"
            ]
          },
          "metadata": {
            "tags": []
          },
          "execution_count": 7
        }
      ]
    },
    {
      "cell_type": "markdown",
      "metadata": {
        "id": "eiP3oACPltn6"
      },
      "source": [
        "## *A.pop(i)*\n",
        "\n",
        "Remove e retorna o elemento de índice i da lista *A*.\n",
        "\n",
        "<font color=red>**Observação:**</font> Por *default* o método *pop()* remove e retorna o último elemento de uma lista."
      ]
    },
    {
      "cell_type": "code",
      "metadata": {
        "id": "BoCKa5Hqltn6",
        "colab": {
          "base_uri": "https://localhost:8080/",
          "height": 35
        },
        "outputId": "7c198c9e-c1e3-4ec7-d5f5-001569fe8e44"
      },
      "source": [
        "Acessorios.pop()"
      ],
      "execution_count": 8,
      "outputs": [
        {
          "output_type": "execute_result",
          "data": {
            "application/vnd.google.colaboratory.intrinsic+json": {
              "type": "string"
            },
            "text/plain": [
              "' 4 x 4 '"
            ]
          },
          "metadata": {
            "tags": []
          },
          "execution_count": 8
        }
      ]
    },
    {
      "cell_type": "code",
      "metadata": {
        "id": "GfGX1jw-ltn9",
        "colab": {
          "base_uri": "https://localhost:8080/"
        },
        "outputId": "c4a70d38-b147-49f3-caa1-fd88c35d1e25"
      },
      "source": [
        "Acessorios"
      ],
      "execution_count": 9,
      "outputs": [
        {
          "output_type": "execute_result",
          "data": {
            "text/plain": [
              "['Ar condicionado',\n",
              " 'Bancos de couro',\n",
              " 'Piloto automático',\n",
              " 'Rodas de liga',\n",
              " 'Sensor crepuscular',\n",
              " 'Sensor de chuva',\n",
              " 'Sensor de estacionamento',\n",
              " 'Travas elétricas']"
            ]
          },
          "metadata": {
            "tags": []
          },
          "execution_count": 9
        }
      ]
    },
    {
      "cell_type": "code",
      "metadata": {
        "id": "tppe9tqbltn-",
        "colab": {
          "base_uri": "https://localhost:8080/",
          "height": 35
        },
        "outputId": "633fccf7-2138-48cd-9d93-f2aff0509281"
      },
      "source": [
        "Acessorios.pop(3)"
      ],
      "execution_count": 10,
      "outputs": [
        {
          "output_type": "execute_result",
          "data": {
            "application/vnd.google.colaboratory.intrinsic+json": {
              "type": "string"
            },
            "text/plain": [
              "'Rodas de liga'"
            ]
          },
          "metadata": {
            "tags": []
          },
          "execution_count": 10
        }
      ]
    },
    {
      "cell_type": "code",
      "metadata": {
        "id": "Ku6ZHTdJltn_",
        "colab": {
          "base_uri": "https://localhost:8080/"
        },
        "outputId": "e82b0571-7345-4b38-8f51-ca8c74b86553"
      },
      "source": [
        "Acessorios_2 = Acessorios\n",
        "Acessorios_2"
      ],
      "execution_count": 12,
      "outputs": [
        {
          "output_type": "execute_result",
          "data": {
            "text/plain": [
              "['Ar condicionado',\n",
              " 'Bancos de couro',\n",
              " 'Piloto automático',\n",
              " 'Sensor crepuscular',\n",
              " 'Sensor de chuva',\n",
              " 'Sensor de estacionamento',\n",
              " 'Travas elétricas']"
            ]
          },
          "metadata": {
            "tags": []
          },
          "execution_count": 12
        }
      ]
    },
    {
      "cell_type": "markdown",
      "metadata": {
        "id": "NySIp62hltoC"
      },
      "source": [
        "## *A.copy()*\n",
        "\n",
        "Cria uma cópia da lista *A*.\n",
        "\n",
        "<font color=red>**Observação:**</font> O mesmo resultado pode ser obtido com o seguinte código: \n",
        "```\n",
        "A[:]\n",
        "```"
      ]
    },
    {
      "cell_type": "code",
      "metadata": {
        "id": "yP9ODygcltoC"
      },
      "source": [
        "Acessorios_2.append('4 x 4')"
      ],
      "execution_count": 13,
      "outputs": []
    },
    {
      "cell_type": "code",
      "metadata": {
        "id": "W3eQdVWkltoF",
        "colab": {
          "base_uri": "https://localhost:8080/"
        },
        "outputId": "fc15ab14-2b22-4ddd-e448-b462276f59a7"
      },
      "source": [
        "Acessorios_2"
      ],
      "execution_count": 14,
      "outputs": [
        {
          "output_type": "execute_result",
          "data": {
            "text/plain": [
              "['Ar condicionado',\n",
              " 'Bancos de couro',\n",
              " 'Piloto automático',\n",
              " 'Sensor crepuscular',\n",
              " 'Sensor de chuva',\n",
              " 'Sensor de estacionamento',\n",
              " 'Travas elétricas',\n",
              " '4 x 4']"
            ]
          },
          "metadata": {
            "tags": []
          },
          "execution_count": 14
        }
      ]
    },
    {
      "cell_type": "code",
      "metadata": {
        "id": "OVbvjjmdltoG",
        "colab": {
          "base_uri": "https://localhost:8080/"
        },
        "outputId": "88cf7ace-e5b1-43a4-99e5-4edc47f3ab0e"
      },
      "source": [
        "Acessorios"
      ],
      "execution_count": 15,
      "outputs": [
        {
          "output_type": "execute_result",
          "data": {
            "text/plain": [
              "['Ar condicionado',\n",
              " 'Bancos de couro',\n",
              " 'Piloto automático',\n",
              " 'Sensor crepuscular',\n",
              " 'Sensor de chuva',\n",
              " 'Sensor de estacionamento',\n",
              " 'Travas elétricas',\n",
              " '4 x 4']"
            ]
          },
          "metadata": {
            "tags": []
          },
          "execution_count": 15
        }
      ]
    },
    {
      "cell_type": "code",
      "metadata": {
        "id": "P-MN1JfAltoH",
        "colab": {
          "base_uri": "https://localhost:8080/",
          "height": 35
        },
        "outputId": "a3c79119-adeb-458b-a57e-cd517344748a"
      },
      "source": [
        "Acessorios.pop()"
      ],
      "execution_count": 16,
      "outputs": [
        {
          "output_type": "execute_result",
          "data": {
            "application/vnd.google.colaboratory.intrinsic+json": {
              "type": "string"
            },
            "text/plain": [
              "'4 x 4'"
            ]
          },
          "metadata": {
            "tags": []
          },
          "execution_count": 16
        }
      ]
    },
    {
      "cell_type": "code",
      "metadata": {
        "id": "ZVQ38eqVltoJ",
        "colab": {
          "base_uri": "https://localhost:8080/"
        },
        "outputId": "1f2adcf6-caf5-4fa5-86d7-cc4057df86a5"
      },
      "source": [
        "Acessorios_2 = Acessorios.copy()\n",
        "Acessorios_2"
      ],
      "execution_count": 18,
      "outputs": [
        {
          "output_type": "execute_result",
          "data": {
            "text/plain": [
              "['Ar condicionado',\n",
              " 'Bancos de couro',\n",
              " 'Piloto automático',\n",
              " 'Sensor crepuscular',\n",
              " 'Sensor de chuva',\n",
              " 'Sensor de estacionamento',\n",
              " 'Travas elétricas']"
            ]
          },
          "metadata": {
            "tags": []
          },
          "execution_count": 18
        }
      ]
    },
    {
      "cell_type": "code",
      "metadata": {
        "id": "bqPiw5wSltoM",
        "colab": {
          "base_uri": "https://localhost:8080/"
        },
        "outputId": "874e2a4f-5fda-4a2a-b630-dcd9513ec93b"
      },
      "source": [
        "Acessorios_2.append('4x4')\n",
        "Acessorios_2"
      ],
      "execution_count": 21,
      "outputs": [
        {
          "output_type": "execute_result",
          "data": {
            "text/plain": [
              "['Ar condicionado',\n",
              " 'Bancos de couro',\n",
              " 'Piloto automático',\n",
              " 'Sensor crepuscular',\n",
              " 'Sensor de chuva',\n",
              " 'Sensor de estacionamento',\n",
              " 'Travas elétricas',\n",
              " '4x4',\n",
              " '4x4',\n",
              " '4x4']"
            ]
          },
          "metadata": {
            "tags": []
          },
          "execution_count": 21
        }
      ]
    },
    {
      "cell_type": "code",
      "metadata": {
        "id": "Lo9WgzF6ltoP",
        "colab": {
          "base_uri": "https://localhost:8080/",
          "height": 35
        },
        "outputId": "d224fe12-9b92-460b-bb17-ad5ae6b53d89"
      },
      "source": [
        "Acessorios_2.pop()"
      ],
      "execution_count": 22,
      "outputs": [
        {
          "output_type": "execute_result",
          "data": {
            "application/vnd.google.colaboratory.intrinsic+json": {
              "type": "string"
            },
            "text/plain": [
              "'4x4'"
            ]
          },
          "metadata": {
            "tags": []
          },
          "execution_count": 22
        }
      ]
    },
    {
      "cell_type": "code",
      "metadata": {
        "id": "r2LPHB34ltoQ",
        "colab": {
          "base_uri": "https://localhost:8080/"
        },
        "outputId": "3f769b13-da17-4488-f184-dd2c0c37c4fd"
      },
      "source": [
        "Acessorios_2"
      ],
      "execution_count": 23,
      "outputs": [
        {
          "output_type": "execute_result",
          "data": {
            "text/plain": [
              "['Ar condicionado',\n",
              " 'Bancos de couro',\n",
              " 'Piloto automático',\n",
              " 'Sensor crepuscular',\n",
              " 'Sensor de chuva',\n",
              " 'Sensor de estacionamento',\n",
              " 'Travas elétricas',\n",
              " '4x4',\n",
              " '4x4']"
            ]
          },
          "metadata": {
            "tags": []
          },
          "execution_count": 23
        }
      ]
    },
    {
      "cell_type": "code",
      "metadata": {
        "id": "UQqUkO8YltoR",
        "colab": {
          "base_uri": "https://localhost:8080/"
        },
        "outputId": "b37deb87-c8b1-4fb9-854e-14bf90421460"
      },
      "source": [
        "Acessorios"
      ],
      "execution_count": 24,
      "outputs": [
        {
          "output_type": "execute_result",
          "data": {
            "text/plain": [
              "['Ar condicionado',\n",
              " 'Bancos de couro',\n",
              " 'Piloto automático',\n",
              " 'Sensor crepuscular',\n",
              " 'Sensor de chuva',\n",
              " 'Sensor de estacionamento',\n",
              " 'Travas elétricas']"
            ]
          },
          "metadata": {
            "tags": []
          },
          "execution_count": 24
        }
      ]
    },
    {
      "cell_type": "code",
      "metadata": {
        "id": "5hC4R-jNltoS",
        "colab": {
          "base_uri": "https://localhost:8080/",
          "height": 35
        },
        "outputId": "26c58050-e165-4cb1-9991-a4a57b54c821"
      },
      "source": [
        "Acessorios_2.pop()"
      ],
      "execution_count": 25,
      "outputs": [
        {
          "output_type": "execute_result",
          "data": {
            "application/vnd.google.colaboratory.intrinsic+json": {
              "type": "string"
            },
            "text/plain": [
              "'4x4'"
            ]
          },
          "metadata": {
            "tags": []
          },
          "execution_count": 25
        }
      ]
    },
    {
      "cell_type": "code",
      "metadata": {
        "id": "xFj6PqGx9tJb",
        "colab": {
          "base_uri": "https://localhost:8080/"
        },
        "outputId": "dd8b238e-dbff-4f56-a634-8c4ef0bb639e"
      },
      "source": [
        "Acessorios_2"
      ],
      "execution_count": 26,
      "outputs": [
        {
          "output_type": "execute_result",
          "data": {
            "text/plain": [
              "['Ar condicionado',\n",
              " 'Bancos de couro',\n",
              " 'Piloto automático',\n",
              " 'Sensor crepuscular',\n",
              " 'Sensor de chuva',\n",
              " 'Sensor de estacionamento',\n",
              " 'Travas elétricas',\n",
              " '4x4']"
            ]
          },
          "metadata": {
            "tags": []
          },
          "execution_count": 26
        }
      ]
    },
    {
      "cell_type": "code",
      "metadata": {
        "colab": {
          "base_uri": "https://localhost:8080/"
        },
        "id": "MZCGrmLg6eoS",
        "outputId": "4bbff26c-2d66-4df4-bc60-08dc93f703df"
      },
      "source": [
        "\n",
        "dados = [1, 2, 3, 4]\n",
        "dados_copia = dados\n",
        "dados_copia.append(5)\n",
        "dados"
      ],
      "execution_count": 28,
      "outputs": [
        {
          "output_type": "execute_result",
          "data": {
            "text/plain": [
              "[1, 2, 3, 4, 5]"
            ]
          },
          "metadata": {
            "tags": []
          },
          "execution_count": 28
        }
      ]
    },
    {
      "cell_type": "markdown",
      "metadata": {
        "id": "8zMZNsg2ltoU"
      },
      "source": [
        "# <font color=green> 4. ESTRUTURAS DE REPETIÇÃO E CONDICIONAIS\n",
        "---"
      ]
    },
    {
      "cell_type": "code",
      "metadata": {
        "id": "_wXonZD86dzZ"
      },
      "source": [
        ""
      ],
      "execution_count": null,
      "outputs": []
    },
    {
      "cell_type": "markdown",
      "metadata": {
        "id": "gxUmCLyJltoU"
      },
      "source": [
        "# 4.1 Instrução *for*\n",
        "\n",
        "#### Formato padrão\n",
        "\n",
        "```\n",
        "for <variável> in <coleção>:\n",
        "    <instruções>\n",
        "```"
      ]
    },
    {
      "cell_type": "markdown",
      "metadata": {
        "id": "Irl5oa0altoU"
      },
      "source": [
        "### Loops com listas"
      ]
    },
    {
      "cell_type": "code",
      "metadata": {
        "id": "E1LZ5n25ltoV"
      },
      "source": [
        ""
      ],
      "execution_count": null,
      "outputs": []
    },
    {
      "cell_type": "code",
      "metadata": {
        "id": "Z459QqsFltoY"
      },
      "source": [
        ""
      ],
      "execution_count": null,
      "outputs": []
    },
    {
      "cell_type": "markdown",
      "metadata": {
        "id": "Gbztj9T4ltoZ"
      },
      "source": [
        "###  List comprehensions\n",
        "\n",
        "https://docs.python.org/3.6/tutorial/datastructures.html#list-comprehensions"
      ]
    },
    {
      "cell_type": "markdown",
      "metadata": {
        "id": "4Y8g0cSHjbof"
      },
      "source": [
        "*range()* -> https://docs.python.org/3.6/library/functions.html#func-range"
      ]
    },
    {
      "cell_type": "code",
      "metadata": {
        "id": "xDo9TLdYltoZ"
      },
      "source": [
        ""
      ],
      "execution_count": null,
      "outputs": []
    },
    {
      "cell_type": "code",
      "metadata": {
        "id": "V12p_CQBltoc"
      },
      "source": [
        ""
      ],
      "execution_count": null,
      "outputs": []
    },
    {
      "cell_type": "code",
      "metadata": {
        "id": "OOzHHRWHltof"
      },
      "source": [
        ""
      ],
      "execution_count": null,
      "outputs": []
    },
    {
      "cell_type": "code",
      "metadata": {
        "id": "TKynwnxgltog"
      },
      "source": [
        ""
      ],
      "execution_count": null,
      "outputs": []
    },
    {
      "cell_type": "code",
      "metadata": {
        "id": "d77YH_dVltoh"
      },
      "source": [
        ""
      ],
      "execution_count": null,
      "outputs": []
    },
    {
      "cell_type": "code",
      "metadata": {
        "id": "3OmElLO2ltoi"
      },
      "source": [
        ""
      ],
      "execution_count": null,
      "outputs": []
    },
    {
      "cell_type": "code",
      "metadata": {
        "id": "HKUkvcDkltok"
      },
      "source": [
        ""
      ],
      "execution_count": null,
      "outputs": []
    },
    {
      "cell_type": "markdown",
      "metadata": {
        "id": "AcAcaKFXltom"
      },
      "source": [
        "# 4.2 Loops aninhados"
      ]
    },
    {
      "cell_type": "code",
      "metadata": {
        "id": "mjgJCo3dlton"
      },
      "source": [
        "dados = [ \n",
        "    ['Rodas de liga', 'Travas elétricas', 'Piloto automático', 'Bancos de couro', 'Ar condicionado', 'Sensor de estacionamento', 'Sensor crepuscular', 'Sensor de chuva'],\n",
        "    ['Central multimídia', 'Teto panorâmico', 'Freios ABS', '4 X 4', 'Painel digital', 'Piloto automático', 'Bancos de couro', 'Câmera de estacionamento'],\n",
        "    ['Piloto automático', 'Controle de estabilidade', 'Sensor crepuscular', 'Freios ABS', 'Câmbio automático', 'Bancos de couro', 'Central multimídia', 'Vidros elétricos']\n",
        "]\n",
        "dados"
      ],
      "execution_count": null,
      "outputs": []
    },
    {
      "cell_type": "code",
      "metadata": {
        "id": "pLgxwApVltop"
      },
      "source": [
        ""
      ],
      "execution_count": null,
      "outputs": []
    },
    {
      "cell_type": "code",
      "metadata": {
        "id": "OYnDRvcYltor"
      },
      "source": [
        ""
      ],
      "execution_count": null,
      "outputs": []
    },
    {
      "cell_type": "code",
      "metadata": {
        "id": "DbJa5_cJltos"
      },
      "source": [
        ""
      ],
      "execution_count": null,
      "outputs": []
    },
    {
      "cell_type": "markdown",
      "metadata": {
        "id": "RrGAOy1rn1Dj"
      },
      "source": [
        "## *set()*\n",
        "\n",
        "https://docs.python.org/3.6/library/stdtypes.html#types-set\n",
        "\n",
        "https://docs.python.org/3.6/library/functions.html#func-set"
      ]
    },
    {
      "cell_type": "code",
      "metadata": {
        "id": "CuB-9ClSltos"
      },
      "source": [
        ""
      ],
      "execution_count": null,
      "outputs": []
    },
    {
      "cell_type": "markdown",
      "metadata": {
        "id": "9hHKKABhltot"
      },
      "source": [
        "### List comprehensions"
      ]
    },
    {
      "cell_type": "code",
      "metadata": {
        "id": "T6t79LTlltot"
      },
      "source": [
        ""
      ],
      "execution_count": null,
      "outputs": []
    },
    {
      "cell_type": "markdown",
      "metadata": {
        "id": "cJ4fPdj5ltou"
      },
      "source": [
        "# 4.3 Instrução *if*\n",
        "\n",
        "#### Formato padrão\n",
        "\n",
        "```\n",
        "if <condição>:\n",
        "     <instruções caso a condição seja verdadeira>\n",
        "```"
      ]
    },
    {
      "cell_type": "markdown",
      "metadata": {
        "id": "bqOYDJiWltou"
      },
      "source": [
        "### Operadores de comparação: $==$, $!=$, $>$, $<$, $>=$, $<=$\n",
        "### e\n",
        "### Operadores lógicos: $and$, $or$, $not$"
      ]
    },
    {
      "cell_type": "code",
      "metadata": {
        "id": "5eY_XPmrltov"
      },
      "source": [
        "# 1º item da lista - Nome do veículo\n",
        "# 2º item da lista - Ano de fabricação\n",
        "# 3º item da lista - Veículo é zero km?\n",
        "\n",
        "dados = [\n",
        "    ['Jetta Variant', 2003, False],\n",
        "    ['Passat', 1991, False],\n",
        "    ['Crossfox', 1990, False],\n",
        "    ['DS5', 2019, True],\n",
        "    ['Aston Martin DB4', 2006, False],\n",
        "    ['Palio Weekend', 2012, False],\n",
        "    ['A5', 2019, True],\n",
        "    ['Série 3 Cabrio', 2009, False],\n",
        "    ['Dodge Jorney', 2019, False],\n",
        "    ['Carens', 2011, False]\n",
        "]\n",
        "dados"
      ],
      "execution_count": null,
      "outputs": []
    },
    {
      "cell_type": "code",
      "metadata": {
        "id": "nyb0iDH1ltoy"
      },
      "source": [
        ""
      ],
      "execution_count": null,
      "outputs": []
    },
    {
      "cell_type": "code",
      "metadata": {
        "id": "5MlITJppltoy"
      },
      "source": [
        ""
      ],
      "execution_count": null,
      "outputs": []
    },
    {
      "cell_type": "markdown",
      "metadata": {
        "id": "51Js0kXD0aRH"
      },
      "source": [
        "### List comprehensions"
      ]
    },
    {
      "cell_type": "code",
      "metadata": {
        "id": "Ly4QUX5J0aRI"
      },
      "source": [
        ""
      ],
      "execution_count": null,
      "outputs": []
    },
    {
      "cell_type": "markdown",
      "metadata": {
        "id": "CKjrvO5Tltoz"
      },
      "source": [
        "# 4.4 Instruções *if-else* e *if-elif-else*\n",
        "\n",
        "#### Formato padrão\n",
        "\n",
        "```\n",
        "if <condição>:\n",
        "    <instruções caso a condição seja verdadeira>\n",
        "else:\n",
        "    <instruções caso a condição não seja verdadeira>\n",
        "```"
      ]
    },
    {
      "cell_type": "code",
      "metadata": {
        "id": "K_VORb47ltoz"
      },
      "source": [
        ""
      ],
      "execution_count": null,
      "outputs": []
    },
    {
      "cell_type": "code",
      "metadata": {
        "id": "vhz5T7jDlto1"
      },
      "source": [
        ""
      ],
      "execution_count": null,
      "outputs": []
    },
    {
      "cell_type": "code",
      "metadata": {
        "id": "XlvlpPjhlto1"
      },
      "source": [
        ""
      ],
      "execution_count": null,
      "outputs": []
    },
    {
      "cell_type": "markdown",
      "metadata": {
        "id": "Z2-8WeN1lto2"
      },
      "source": [
        "#### Formato padrão\n",
        "\n",
        "```\n",
        "if <condição 1>:\n",
        "    <instruções caso a condição 1 seja verdadeira>\n",
        "elif <condição 2>:\n",
        "    <instruções caso a condição 2 seja verdadeira>\n",
        "elif <condição 3>:\n",
        "    <instruções caso a condição 3 seja verdadeira>\n",
        "                        .\n",
        "                        .\n",
        "                        .\n",
        "else:\n",
        "    <instruções caso as condições anteriores não sejam verdadeiras>\n",
        "```"
      ]
    },
    {
      "cell_type": "code",
      "metadata": {
        "id": "ggrbaB4Tlto2"
      },
      "source": [
        ""
      ],
      "execution_count": null,
      "outputs": []
    },
    {
      "cell_type": "code",
      "metadata": {
        "id": "KJgRc1F9lto3"
      },
      "source": [
        "print('AND')\n",
        "print(f'(True and True) o resultado é: {True and True}')\n",
        "print(f'(True and False) o resultado é: {True and False}')\n",
        "print(f'(False and True) o resultado é: {False and True}')\n",
        "print(f'(False and False) o resultado é: {False and False}')"
      ],
      "execution_count": null,
      "outputs": []
    },
    {
      "cell_type": "code",
      "metadata": {
        "id": "sb0mSh-o0aRM"
      },
      "source": [
        "print('OR')\n",
        "print(f'(True or True) o resultado é: {True or True}')\n",
        "print(f'(True or False) o resultado é: {True or False}')\n",
        "print(f'(False or True) o resultado é: {False or True}')\n",
        "print(f'(False or False) o resultado é: {False or False}')"
      ],
      "execution_count": null,
      "outputs": []
    },
    {
      "cell_type": "code",
      "metadata": {
        "id": "AfNdTPzElto3"
      },
      "source": [
        ""
      ],
      "execution_count": null,
      "outputs": []
    },
    {
      "cell_type": "code",
      "metadata": {
        "id": "5bN7SuvTlto4"
      },
      "source": [
        ""
      ],
      "execution_count": null,
      "outputs": []
    },
    {
      "cell_type": "code",
      "metadata": {
        "id": "dDEl3Vfglto4"
      },
      "source": [
        ""
      ],
      "execution_count": null,
      "outputs": []
    },
    {
      "cell_type": "code",
      "metadata": {
        "id": "Ot4HLQlelto5"
      },
      "source": [
        ""
      ],
      "execution_count": null,
      "outputs": []
    },
    {
      "cell_type": "code",
      "metadata": {
        "id": "FN26ZBKJlto5"
      },
      "source": [
        ""
      ],
      "execution_count": null,
      "outputs": []
    },
    {
      "cell_type": "markdown",
      "metadata": {
        "id": "aRfQfubxlto6"
      },
      "source": [
        "# <font color=green> 5. NUMPY BÁSICO\n",
        "---\n",
        "\n",
        "Numpy é a abreviação de Numerical Python e é um dos pacotes mais importantes para processamento numérico em Python. Numpy oferece a base para a maioria dos pacotes de aplicações científicas que utilizem dados numéricos em Python (estruturas de dados e algoritmos). Pode-se destacar os seguintes recursos que o pacote Numpy contém:\n",
        "\n",
        "- Um poderoso objeto array multidimensional;\n",
        "- Funções matemáticas sofisticadas para operações com arrays sem a necessidade de utilização de laços *for*;\n",
        "- Recursos de algebra linear e geração de números aleatórios\n",
        "\n",
        "Além de seus óbvios usos científicos, o pacote NumPy também é muito utilizado em análise de dados como um eficiente contêiner multidimensional de dados genéricos para transporte entre diversos algoritmos e bibliotecas em Python.\n",
        "\n",
        "**Versão:** 1.16.5\n",
        "\n",
        "**Instalação:** https://scipy.org/install.html\n",
        "\n",
        "**Documentação:** https://numpy.org/doc/1.16/"
      ]
    },
    {
      "cell_type": "markdown",
      "metadata": {
        "id": "RtG2-g1ultme"
      },
      "source": [
        "### Pacotes\n",
        "\n",
        "Existem diversos pacotes Python disponíveis para download na internet. Cada pacote tem como objetivo a solução de determinado tipo de problema e para isso são desenvolvidos novos tipos, funções e métodos.\n",
        "\n",
        "Alguns pacotes são bastante utilizados em um contexto de ciência de dados como por exemplo:\n",
        "\n",
        "- Numpy\n",
        "- Pandas\n",
        "- Scikit-learn\n",
        "- Matplotlib\n",
        "\n",
        "Alguns pacotes não são distribuídos com a instalação default do Python. Neste caso devemos instalar os pacotes que necessitamos em nosso sistema para podermos utilizar suas funcionalidades."
      ]
    },
    {
      "cell_type": "markdown",
      "metadata": {
        "id": "b8prsQjmltme"
      },
      "source": [
        "### Importando todo o pacote"
      ]
    },
    {
      "cell_type": "code",
      "metadata": {
        "id": "lP0tqXHLltmf"
      },
      "source": [
        ""
      ],
      "execution_count": null,
      "outputs": []
    },
    {
      "cell_type": "markdown",
      "metadata": {
        "id": "lKXyXOec8z27"
      },
      "source": [
        "https://numpy.org/doc/1.16/reference/generated/numpy.arange.html"
      ]
    },
    {
      "cell_type": "code",
      "metadata": {
        "id": "Y40UP3K7ltmg"
      },
      "source": [
        ""
      ],
      "execution_count": null,
      "outputs": []
    },
    {
      "cell_type": "markdown",
      "metadata": {
        "id": "84-53f4Lltmh"
      },
      "source": [
        "### Importando todo o pacote e atribuindo um novo nome "
      ]
    },
    {
      "cell_type": "code",
      "metadata": {
        "id": "CzESWck7ltmi"
      },
      "source": [
        ""
      ],
      "execution_count": null,
      "outputs": []
    },
    {
      "cell_type": "code",
      "metadata": {
        "id": "RC7Dr5Viltmj"
      },
      "source": [
        ""
      ],
      "execution_count": null,
      "outputs": []
    },
    {
      "cell_type": "markdown",
      "metadata": {
        "id": "WWawttSpltml"
      },
      "source": [
        "### Importando parte do pacote"
      ]
    },
    {
      "cell_type": "code",
      "metadata": {
        "id": "8kTeo3Ltltmo"
      },
      "source": [
        ""
      ],
      "execution_count": null,
      "outputs": []
    },
    {
      "cell_type": "code",
      "metadata": {
        "id": "4LPnpiEwltmt"
      },
      "source": [
        ""
      ],
      "execution_count": null,
      "outputs": []
    },
    {
      "cell_type": "markdown",
      "metadata": {
        "id": "VSmffnCklto6"
      },
      "source": [
        "# 5.1 Criando arrays Numpy"
      ]
    },
    {
      "cell_type": "code",
      "metadata": {
        "id": "Wqpin_-Plto8"
      },
      "source": [
        ""
      ],
      "execution_count": null,
      "outputs": []
    },
    {
      "cell_type": "markdown",
      "metadata": {
        "id": "ock4Ku-Ulto8"
      },
      "source": [
        "### A partir de listas\n",
        "\n",
        "https://numpy.org/doc/1.16/user/basics.creation.html"
      ]
    },
    {
      "cell_type": "code",
      "metadata": {
        "id": "82H-09CQlto9"
      },
      "source": [
        ""
      ],
      "execution_count": null,
      "outputs": []
    },
    {
      "cell_type": "code",
      "metadata": {
        "id": "8VYE3JSYlto9"
      },
      "source": [
        ""
      ],
      "execution_count": null,
      "outputs": []
    },
    {
      "cell_type": "code",
      "metadata": {
        "id": "OBsa5Cfplto-"
      },
      "source": [
        ""
      ],
      "execution_count": null,
      "outputs": []
    },
    {
      "cell_type": "markdown",
      "metadata": {
        "id": "RfQ3jJSAlto-"
      },
      "source": [
        "https://numpy.org/doc/1.16/user/basics.types.html"
      ]
    },
    {
      "cell_type": "code",
      "metadata": {
        "id": "6yLpkJcAlto-"
      },
      "source": [
        ""
      ],
      "execution_count": null,
      "outputs": []
    },
    {
      "cell_type": "markdown",
      "metadata": {
        "id": "1pFx86QPlto_"
      },
      "source": [
        "### A partir de dados externos\n",
        "\n",
        "https://numpy.org/doc/1.16/reference/generated/numpy.loadtxt.html"
      ]
    },
    {
      "cell_type": "code",
      "metadata": {
        "id": "26pQLNgrlto_"
      },
      "source": [
        ""
      ],
      "execution_count": null,
      "outputs": []
    },
    {
      "cell_type": "code",
      "metadata": {
        "id": "FoP42bdpltpA",
        "scrolled": true
      },
      "source": [
        ""
      ],
      "execution_count": null,
      "outputs": []
    },
    {
      "cell_type": "code",
      "metadata": {
        "id": "MNPjZJbYltpA"
      },
      "source": [
        ""
      ],
      "execution_count": null,
      "outputs": []
    },
    {
      "cell_type": "markdown",
      "metadata": {
        "id": "_wnTg0wJltpB"
      },
      "source": [
        "### Arrays com duas dimensões"
      ]
    },
    {
      "cell_type": "code",
      "metadata": {
        "id": "Gt1dL27GltpB",
        "scrolled": true
      },
      "source": [
        "dados = [ \n",
        "    ['Rodas de liga', 'Travas elétricas', 'Piloto automático', 'Bancos de couro', 'Ar condicionado', 'Sensor de estacionamento', 'Sensor crepuscular', 'Sensor de chuva'],\n",
        "    ['Central multimídia', 'Teto panorâmico', 'Freios ABS', '4 X 4', 'Painel digital', 'Piloto automático', 'Bancos de couro', 'Câmera de estacionamento'],\n",
        "    ['Piloto automático', 'Controle de estabilidade', 'Sensor crepuscular', 'Freios ABS', 'Câmbio automático', 'Bancos de couro', 'Central multimídia', 'Vidros elétricos']\n",
        "]\n",
        "dados"
      ],
      "execution_count": null,
      "outputs": []
    },
    {
      "cell_type": "code",
      "metadata": {
        "id": "IlbYeZPkltpC"
      },
      "source": [
        ""
      ],
      "execution_count": null,
      "outputs": []
    },
    {
      "cell_type": "code",
      "metadata": {
        "id": "FgjmWozgltpD",
        "scrolled": true
      },
      "source": [
        ""
      ],
      "execution_count": null,
      "outputs": []
    },
    {
      "cell_type": "code",
      "metadata": {
        "id": "TDM9HskUltpD"
      },
      "source": [
        ""
      ],
      "execution_count": null,
      "outputs": []
    },
    {
      "cell_type": "code",
      "metadata": {
        "id": "bBmnzpF5ltpE"
      },
      "source": [
        ""
      ],
      "execution_count": null,
      "outputs": []
    },
    {
      "cell_type": "markdown",
      "metadata": {
        "id": "cPbkST9pltpE"
      },
      "source": [
        "### Comparando desempenho com listas"
      ]
    },
    {
      "cell_type": "code",
      "metadata": {
        "id": "tTPC-G4vltpE"
      },
      "source": [
        ""
      ],
      "execution_count": null,
      "outputs": []
    },
    {
      "cell_type": "code",
      "metadata": {
        "id": "PIC-ndg9ltpF"
      },
      "source": [
        ""
      ],
      "execution_count": null,
      "outputs": []
    },
    {
      "cell_type": "code",
      "metadata": {
        "id": "vXy57nk2ltpF"
      },
      "source": [
        ""
      ],
      "execution_count": null,
      "outputs": []
    },
    {
      "cell_type": "code",
      "metadata": {
        "id": "I94lVgCRltpG"
      },
      "source": [
        ""
      ],
      "execution_count": null,
      "outputs": []
    },
    {
      "cell_type": "markdown",
      "metadata": {
        "id": "ul4MuKyTltpG"
      },
      "source": [
        "# 5.2 Operações aritméticas com arrays Numpy"
      ]
    },
    {
      "cell_type": "markdown",
      "metadata": {
        "id": "QwnxO_rYltpH"
      },
      "source": [
        "### Operações entre arrays e constantes"
      ]
    },
    {
      "cell_type": "code",
      "metadata": {
        "id": "63KVHPK0ltpH"
      },
      "source": [
        "km = [44410., 5712., 37123., 0., 25757.]\n",
        "anos = [2003, 1991, 1990, 2019, 2006]"
      ],
      "execution_count": null,
      "outputs": []
    },
    {
      "cell_type": "code",
      "metadata": {
        "id": "AryIZaBIltpH"
      },
      "source": [
        ""
      ],
      "execution_count": null,
      "outputs": []
    },
    {
      "cell_type": "code",
      "metadata": {
        "id": "s8GvEk4HltpI"
      },
      "source": [
        "km = np.array([44410., 5712., 37123., 0., 25757.])\n",
        "anos = np.array([2003, 1991, 1990, 2019, 2006])"
      ],
      "execution_count": null,
      "outputs": []
    },
    {
      "cell_type": "code",
      "metadata": {
        "id": "aUnYV7OultpI"
      },
      "source": [
        ""
      ],
      "execution_count": null,
      "outputs": []
    },
    {
      "cell_type": "code",
      "metadata": {
        "id": "vg5yZ9IpltpJ"
      },
      "source": [
        ""
      ],
      "execution_count": null,
      "outputs": []
    },
    {
      "cell_type": "markdown",
      "metadata": {
        "id": "qn1PUsM9ltpJ"
      },
      "source": [
        "### Operações entre arrays"
      ]
    },
    {
      "cell_type": "code",
      "metadata": {
        "id": "gU_d5aZkltpJ"
      },
      "source": [
        ""
      ],
      "execution_count": null,
      "outputs": []
    },
    {
      "cell_type": "code",
      "metadata": {
        "id": "U9DXntUEltpK"
      },
      "source": [
        ""
      ],
      "execution_count": null,
      "outputs": []
    },
    {
      "cell_type": "code",
      "metadata": {
        "id": "n0rPxgY1ltpL"
      },
      "source": [
        ""
      ],
      "execution_count": null,
      "outputs": []
    },
    {
      "cell_type": "markdown",
      "metadata": {
        "id": "o4-gsGICltpN"
      },
      "source": [
        "### Operações com arrays de duas dimensões"
      ]
    },
    {
      "cell_type": "code",
      "metadata": {
        "id": "VT71Pbb3ltpN"
      },
      "source": [
        ""
      ],
      "execution_count": null,
      "outputs": []
    },
    {
      "cell_type": "code",
      "metadata": {
        "id": "bgDe00q8ltpO"
      },
      "source": [
        ""
      ],
      "execution_count": null,
      "outputs": []
    },
    {
      "cell_type": "code",
      "metadata": {
        "id": "jIQU2ugKltpP"
      },
      "source": [
        ""
      ],
      "execution_count": null,
      "outputs": []
    },
    {
      "cell_type": "markdown",
      "metadata": {
        "id": "dsgz-E5ZltpP"
      },
      "source": [
        "![1410-img01.png](https://caelum-online-public.s3.amazonaws.com/1410-pythondatascience/01/1410-img01.png)"
      ]
    },
    {
      "cell_type": "code",
      "metadata": {
        "id": "imANn6HultpQ"
      },
      "source": [
        ""
      ],
      "execution_count": null,
      "outputs": []
    },
    {
      "cell_type": "code",
      "metadata": {
        "id": "Nkp9ljkvltpQ"
      },
      "source": [
        ""
      ],
      "execution_count": null,
      "outputs": []
    },
    {
      "cell_type": "code",
      "metadata": {
        "id": "njJ2z3HJltpR"
      },
      "source": [
        ""
      ],
      "execution_count": null,
      "outputs": []
    },
    {
      "cell_type": "markdown",
      "metadata": {
        "id": "4CAwtS0-ltpR"
      },
      "source": [
        "# 5.3 Seleções com arrays Numpy"
      ]
    },
    {
      "cell_type": "markdown",
      "metadata": {
        "id": "QDAT1vODltpS"
      },
      "source": [
        "![1410-img01.png](https://caelum-online-public.s3.amazonaws.com/1410-pythondatascience/01/1410-img01.png)"
      ]
    },
    {
      "cell_type": "code",
      "metadata": {
        "id": "nZpPGS2TltpS"
      },
      "source": [
        ""
      ],
      "execution_count": null,
      "outputs": []
    },
    {
      "cell_type": "markdown",
      "metadata": {
        "id": "b--BIPcOltpT"
      },
      "source": [
        "![1410-img02.png](https://caelum-online-public.s3.amazonaws.com/1410-pythondatascience/01/1410-img02.png)"
      ]
    },
    {
      "cell_type": "markdown",
      "metadata": {
        "id": "86-hOHa7ltpT"
      },
      "source": [
        "### Indexação \n",
        "\n",
        "<font color=red>**Observação:**</font> A indexação tem origem no zero."
      ]
    },
    {
      "cell_type": "code",
      "metadata": {
        "id": "mr0Q_X0JltpT"
      },
      "source": [
        ""
      ],
      "execution_count": null,
      "outputs": []
    },
    {
      "cell_type": "code",
      "metadata": {
        "id": "VxiR_IgdltpU"
      },
      "source": [
        ""
      ],
      "execution_count": null,
      "outputs": []
    },
    {
      "cell_type": "code",
      "metadata": {
        "id": "xGDomIyAltpU"
      },
      "source": [
        ""
      ],
      "execution_count": null,
      "outputs": []
    },
    {
      "cell_type": "code",
      "metadata": {
        "id": "QEO5Za5PltpV"
      },
      "source": [
        ""
      ],
      "execution_count": null,
      "outputs": []
    },
    {
      "cell_type": "code",
      "metadata": {
        "id": "rvkeMK8KltpV"
      },
      "source": [
        ""
      ],
      "execution_count": null,
      "outputs": []
    },
    {
      "cell_type": "code",
      "metadata": {
        "id": "X8c-lJRJltpW"
      },
      "source": [
        ""
      ],
      "execution_count": null,
      "outputs": []
    },
    {
      "cell_type": "markdown",
      "metadata": {
        "id": "fCWUSI1zltpZ"
      },
      "source": [
        "## <font color=green>**Dica:**</font>\n",
        "### *ndarray[ linha ][ coluna ]* ou *ndarray[ linha, coluna ]*"
      ]
    },
    {
      "cell_type": "code",
      "metadata": {
        "id": "Nxc3uY-ZltpZ"
      },
      "source": [
        ""
      ],
      "execution_count": null,
      "outputs": []
    },
    {
      "cell_type": "code",
      "metadata": {
        "id": "xp8ByjualtpZ"
      },
      "source": [
        ""
      ],
      "execution_count": null,
      "outputs": []
    },
    {
      "cell_type": "markdown",
      "metadata": {
        "id": "7osmTUC4ltpa"
      },
      "source": [
        " ### Fatiamentos\n",
        " \n",
        "A sintaxe para realizar fatiamento em um array Numpy é $i : j : k$ onde $i$ é o índice inicial, $j$ é o índice de parada, e $k$ é o indicador de passo ($k\\neq0$)\n",
        " \n",
        "<font color=red>**Observação:**</font> Nos fatiamentos (*slices*) o item com índice i é **incluído** e o item com índice j **não é incluído** no resultado."
      ]
    },
    {
      "cell_type": "markdown",
      "metadata": {
        "id": "HEx4TbNlltpa"
      },
      "source": [
        "![1410-img01.png](https://caelum-online-public.s3.amazonaws.com/1410-pythondatascience/01/1410-img01.png)"
      ]
    },
    {
      "cell_type": "code",
      "metadata": {
        "id": "tlaD1SENltpb"
      },
      "source": [
        ""
      ],
      "execution_count": null,
      "outputs": []
    },
    {
      "cell_type": "code",
      "metadata": {
        "id": "vXLIO1cVltpc"
      },
      "source": [
        ""
      ],
      "execution_count": null,
      "outputs": []
    },
    {
      "cell_type": "code",
      "metadata": {
        "id": "kYLgsQcHltpc"
      },
      "source": [
        ""
      ],
      "execution_count": null,
      "outputs": []
    },
    {
      "cell_type": "code",
      "metadata": {
        "id": "H2MJpIasltpd"
      },
      "source": [
        ""
      ],
      "execution_count": null,
      "outputs": []
    },
    {
      "cell_type": "code",
      "metadata": {
        "id": "YVzf4fNCltpe"
      },
      "source": [
        ""
      ],
      "execution_count": null,
      "outputs": []
    },
    {
      "cell_type": "code",
      "metadata": {
        "id": "bPyQsUFPltpf"
      },
      "source": [
        ""
      ],
      "execution_count": null,
      "outputs": []
    },
    {
      "cell_type": "code",
      "metadata": {
        "id": "IRxfixG-ltpg"
      },
      "source": [
        ""
      ],
      "execution_count": null,
      "outputs": []
    },
    {
      "cell_type": "code",
      "metadata": {
        "id": "wfoJ84haltph"
      },
      "source": [
        ""
      ],
      "execution_count": null,
      "outputs": []
    },
    {
      "cell_type": "code",
      "metadata": {
        "id": "UeejSXUAltph"
      },
      "source": [
        ""
      ],
      "execution_count": null,
      "outputs": []
    },
    {
      "cell_type": "markdown",
      "metadata": {
        "id": "-fW4EXIqltpi"
      },
      "source": [
        "### Indexação com array booleano\n",
        "\n",
        "<font color=red>**Observação:**</font> Seleciona um grupo de linhas e colunas segundo os rótulos ou um array booleano."
      ]
    },
    {
      "cell_type": "code",
      "metadata": {
        "id": "MgmH-rCSltpi"
      },
      "source": [
        ""
      ],
      "execution_count": null,
      "outputs": []
    },
    {
      "cell_type": "code",
      "metadata": {
        "id": "HN1i-BlLltpj"
      },
      "source": [
        ""
      ],
      "execution_count": null,
      "outputs": []
    },
    {
      "cell_type": "code",
      "metadata": {
        "id": "iXJa9tL4ltpj"
      },
      "source": [
        ""
      ],
      "execution_count": null,
      "outputs": []
    },
    {
      "cell_type": "code",
      "metadata": {
        "id": "54gH6X5eltpk"
      },
      "source": [
        ""
      ],
      "execution_count": null,
      "outputs": []
    },
    {
      "cell_type": "code",
      "metadata": {
        "id": "F3z6zMELltpk"
      },
      "source": [
        ""
      ],
      "execution_count": null,
      "outputs": []
    },
    {
      "cell_type": "code",
      "metadata": {
        "id": "pk8A68z1ltpl"
      },
      "source": [
        ""
      ],
      "execution_count": null,
      "outputs": []
    },
    {
      "cell_type": "code",
      "metadata": {
        "id": "WUVMN29_ltpm"
      },
      "source": [
        ""
      ],
      "execution_count": null,
      "outputs": []
    },
    {
      "cell_type": "markdown",
      "metadata": {
        "id": "Acw1DffHltpn"
      },
      "source": [
        "# 5.4 Atributos e métodos de arrays Numpy"
      ]
    },
    {
      "cell_type": "markdown",
      "metadata": {
        "id": "RBnSne6Eltpo"
      },
      "source": [
        "### Atributos\n",
        "\n",
        "https://numpy.org/doc/1.16/reference/arrays.ndarray.html#array-attributes"
      ]
    },
    {
      "cell_type": "code",
      "metadata": {
        "id": "stjvD6m8ltpo"
      },
      "source": [
        ""
      ],
      "execution_count": null,
      "outputs": []
    },
    {
      "cell_type": "markdown",
      "metadata": {
        "id": "uKqPxg2Zltpo"
      },
      "source": [
        "## *ndarray.shape*\n",
        "\n",
        "Retorna uma tupla com as dimensões do array."
      ]
    },
    {
      "cell_type": "code",
      "metadata": {
        "id": "gmaZhF04ltpp"
      },
      "source": [
        ""
      ],
      "execution_count": null,
      "outputs": []
    },
    {
      "cell_type": "markdown",
      "metadata": {
        "id": "XaY6oXkmltpp"
      },
      "source": [
        "## *ndarray.ndim*\n",
        "\n",
        "Retorna o número de dimensões do array."
      ]
    },
    {
      "cell_type": "code",
      "metadata": {
        "id": "inJ4HDjaltpq"
      },
      "source": [
        ""
      ],
      "execution_count": null,
      "outputs": []
    },
    {
      "cell_type": "markdown",
      "metadata": {
        "id": "ESgVt5xOltpq"
      },
      "source": [
        "## *ndarray.size*\n",
        "\n",
        "Retorna o número de elementos do array."
      ]
    },
    {
      "cell_type": "code",
      "metadata": {
        "id": "BWr4efoiltpq"
      },
      "source": [
        ""
      ],
      "execution_count": null,
      "outputs": []
    },
    {
      "cell_type": "markdown",
      "metadata": {
        "id": "Ox8JlBM3ltpr"
      },
      "source": [
        "## *ndarray.dtype*\n",
        "\n",
        "Retorna o tipo de dados dos elementos do array."
      ]
    },
    {
      "cell_type": "code",
      "metadata": {
        "id": "npiL84Vfltpu"
      },
      "source": [
        ""
      ],
      "execution_count": null,
      "outputs": []
    },
    {
      "cell_type": "markdown",
      "metadata": {
        "id": "j7uPN16oltpv"
      },
      "source": [
        "## *ndarray.T*\n",
        "\n",
        "Retorna o array transposto, isto é, converte linhas em colunas e vice versa."
      ]
    },
    {
      "cell_type": "code",
      "metadata": {
        "id": "bLjrrx56ltpv"
      },
      "source": [
        ""
      ],
      "execution_count": null,
      "outputs": []
    },
    {
      "cell_type": "code",
      "metadata": {
        "id": "5A9SlJQvltpw"
      },
      "source": [
        ""
      ],
      "execution_count": null,
      "outputs": []
    },
    {
      "cell_type": "markdown",
      "metadata": {
        "id": "e9r6ryTrltpw"
      },
      "source": [
        "### Métodos\n",
        "\n",
        "https://numpy.org/doc/1.16/reference/arrays.ndarray.html#array-methods"
      ]
    },
    {
      "cell_type": "markdown",
      "metadata": {
        "id": "SR9KYy-0ltpw"
      },
      "source": [
        "## *ndarray.tolist()*\n",
        "\n",
        "Retorna o array como uma lista Python."
      ]
    },
    {
      "cell_type": "code",
      "metadata": {
        "id": "C2aTAwOXltpw"
      },
      "source": [
        ""
      ],
      "execution_count": null,
      "outputs": []
    },
    {
      "cell_type": "markdown",
      "metadata": {
        "id": "bHxcxugPltpx"
      },
      "source": [
        "## *ndarray.reshape(shape[, order])*\n",
        "\n",
        "Retorna um array que contém os mesmos dados com uma nova forma."
      ]
    },
    {
      "cell_type": "code",
      "metadata": {
        "id": "lwESxO71ltpx"
      },
      "source": [
        ""
      ],
      "execution_count": null,
      "outputs": []
    },
    {
      "cell_type": "code",
      "metadata": {
        "id": "sh9poyfzltpy"
      },
      "source": [
        ""
      ],
      "execution_count": null,
      "outputs": []
    },
    {
      "cell_type": "code",
      "metadata": {
        "id": "5332Xu8-ltpy"
      },
      "source": [
        ""
      ],
      "execution_count": null,
      "outputs": []
    },
    {
      "cell_type": "code",
      "metadata": {
        "id": "2RoZvbgHltpz"
      },
      "source": [
        ""
      ],
      "execution_count": null,
      "outputs": []
    },
    {
      "cell_type": "code",
      "metadata": {
        "id": "6q0dJZ-dltp0"
      },
      "source": [
        "km = [44410, 5712, 37123, 0, 25757]\n",
        "anos = [2003, 1991, 1990, 2019, 2006]"
      ],
      "execution_count": null,
      "outputs": []
    },
    {
      "cell_type": "code",
      "metadata": {
        "id": "bs56aGrkltp0"
      },
      "source": [
        ""
      ],
      "execution_count": null,
      "outputs": []
    },
    {
      "cell_type": "code",
      "metadata": {
        "id": "s_GkTk2fltp1"
      },
      "source": [
        ""
      ],
      "execution_count": null,
      "outputs": []
    },
    {
      "cell_type": "code",
      "metadata": {
        "id": "xodm8DVZltp1"
      },
      "source": [
        ""
      ],
      "execution_count": null,
      "outputs": []
    },
    {
      "cell_type": "markdown",
      "metadata": {
        "id": "Tdj5iArbltp2"
      },
      "source": [
        "## *ndarray.resize(new_shape[, refcheck])*\n",
        "\n",
        "Altera a forma e o tamanho do array."
      ]
    },
    {
      "cell_type": "code",
      "metadata": {
        "id": "vB2zxCDtltp2"
      },
      "source": [
        ""
      ],
      "execution_count": null,
      "outputs": []
    },
    {
      "cell_type": "code",
      "metadata": {
        "id": "IMv0m4Multp2"
      },
      "source": [
        ""
      ],
      "execution_count": null,
      "outputs": []
    },
    {
      "cell_type": "code",
      "metadata": {
        "id": "wpAi9928ltp3"
      },
      "source": [
        ""
      ],
      "execution_count": null,
      "outputs": []
    },
    {
      "cell_type": "code",
      "metadata": {
        "id": "CJyuKqaFltp3"
      },
      "source": [
        ""
      ],
      "execution_count": null,
      "outputs": []
    },
    {
      "cell_type": "code",
      "metadata": {
        "id": "bj_iPZAultp4"
      },
      "source": [
        ""
      ],
      "execution_count": null,
      "outputs": []
    },
    {
      "cell_type": "markdown",
      "metadata": {
        "id": "GPSk7Q_Dltp4"
      },
      "source": [
        "# 5.5 Estatísticas com arrays Numpy\n",
        "\n",
        "https://numpy.org/doc/1.16/reference/arrays.ndarray.html#calculation\n",
        "\n",
        "e\n",
        "\n",
        "https://numpy.org/doc/1.16/reference/routines.statistics.html\n",
        "\n",
        "e\n",
        "\n",
        "https://numpy.org/doc/1.16/reference/routines.math.html"
      ]
    },
    {
      "cell_type": "code",
      "metadata": {
        "id": "RH2u1orXltp5"
      },
      "source": [
        "anos = np.loadtxt(fname = \"carros-anos.txt\", dtype = int)\n",
        "km = np.loadtxt(fname = \"carros-km.txt\")\n",
        "valor = np.loadtxt(fname = \"carros-valor.txt\")"
      ],
      "execution_count": null,
      "outputs": []
    },
    {
      "cell_type": "code",
      "metadata": {
        "id": "wbITF7r6ltp5"
      },
      "source": [
        ""
      ],
      "execution_count": null,
      "outputs": []
    },
    {
      "cell_type": "markdown",
      "metadata": {
        "id": "U_x3SOVDltp7"
      },
      "source": [
        "https://numpy.org/doc/1.16/reference/generated/numpy.column_stack.html"
      ]
    },
    {
      "cell_type": "code",
      "metadata": {
        "id": "wefxl-XBltp8"
      },
      "source": [
        ""
      ],
      "execution_count": null,
      "outputs": []
    },
    {
      "cell_type": "code",
      "metadata": {
        "id": "OzDTTmj8ltp_",
        "scrolled": true
      },
      "source": [
        ""
      ],
      "execution_count": null,
      "outputs": []
    },
    {
      "cell_type": "markdown",
      "metadata": {
        "id": "Me6yUU_RltqA"
      },
      "source": [
        "## *np.mean()*\n",
        "\n",
        "Retorna a média dos elementos do array ao longo do eixo especificado."
      ]
    },
    {
      "cell_type": "code",
      "metadata": {
        "id": "MNEKcP38ltqA"
      },
      "source": [
        ""
      ],
      "execution_count": null,
      "outputs": []
    },
    {
      "cell_type": "code",
      "metadata": {
        "id": "sekHQ84zltqB"
      },
      "source": [
        ""
      ],
      "execution_count": null,
      "outputs": []
    },
    {
      "cell_type": "code",
      "metadata": {
        "id": "RpyETIVSltqC"
      },
      "source": [
        ""
      ],
      "execution_count": null,
      "outputs": []
    },
    {
      "cell_type": "code",
      "metadata": {
        "id": "_-kpcTI8ltqD",
        "scrolled": true
      },
      "source": [
        ""
      ],
      "execution_count": null,
      "outputs": []
    },
    {
      "cell_type": "markdown",
      "metadata": {
        "id": "71jViVBUltqE"
      },
      "source": [
        "## *np.std()*\n",
        "\n",
        "Retorna o desvio padrão dos elementos do array ao longo do eixo especificado."
      ]
    },
    {
      "cell_type": "code",
      "metadata": {
        "id": "lEwUbPx2ltqE",
        "scrolled": true
      },
      "source": [
        ""
      ],
      "execution_count": null,
      "outputs": []
    },
    {
      "cell_type": "markdown",
      "metadata": {
        "id": "JTUH-vAeltqG"
      },
      "source": [
        "## *ndarray.sum()*\n",
        "\n",
        "Retorna a soma dos elementos do array ao longo do eixo especificado."
      ]
    },
    {
      "cell_type": "code",
      "metadata": {
        "id": "jIi3yoaWltqG"
      },
      "source": [
        ""
      ],
      "execution_count": null,
      "outputs": []
    },
    {
      "cell_type": "code",
      "metadata": {
        "id": "X3QYbdYLltqH"
      },
      "source": [
        ""
      ],
      "execution_count": null,
      "outputs": []
    },
    {
      "cell_type": "markdown",
      "metadata": {
        "id": "WbBD5ixaltqH"
      },
      "source": [
        "## *np.sum()*\n",
        "\n",
        "Retorna a soma dos elementos do array ao longo do eixo especificado."
      ]
    },
    {
      "cell_type": "code",
      "metadata": {
        "id": "omB6kgWgltqH"
      },
      "source": [
        ""
      ],
      "execution_count": null,
      "outputs": []
    },
    {
      "cell_type": "code",
      "metadata": {
        "id": "LiD4G3kQltqI"
      },
      "source": [
        ""
      ],
      "execution_count": null,
      "outputs": []
    },
    {
      "cell_type": "code",
      "metadata": {
        "id": "kpakpnntltqJ"
      },
      "source": [
        ""
      ],
      "execution_count": null,
      "outputs": []
    }
  ]
}